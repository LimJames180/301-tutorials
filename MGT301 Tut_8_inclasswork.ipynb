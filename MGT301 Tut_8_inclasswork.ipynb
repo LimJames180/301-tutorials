{
 "cells": [
  {
   "cell_type": "markdown",
   "id": "8581623a",
   "metadata": {},
   "source": [
    "# Interactive Graphs"
   ]
  },
  {
   "cell_type": "code",
   "execution_count": null,
   "id": "b428ce66",
   "metadata": {},
   "outputs": [],
   "source": [
    "import pandas as pd\n",
    "import seaborn as sns\n",
    "import matplotlib.pyplot as plt\n",
    "\n",
    "url = 'https://github.com/jiechengh/mgt301/blob/main/airbnb_sin_nyc.csv?raw=true'\n",
    "airbnb = pd.read_csv(url, index_col=0)\n",
    "airbnb.dropna(inplace=True)\n",
    "airbnb.head()"
   ]
  },
  {
   "cell_type": "code",
   "execution_count": null,
   "id": "e062f07e",
   "metadata": {},
   "outputs": [],
   "source": [
    "numeric_cols = ['price', 'minimum_nights', 'number_of_reviews', 'reviews_per_month', \n",
    "               'calculated_host_listings_count', 'availability_365']\n",
    "\n",
    "def drop_outliers_iqr(df, column, selected_cols):\n",
    "    if column in selected_cols:\n",
    "        q1 = df[column].quantile(0.25)\n",
    "        q3 = df[column].quantile(0.75)\n",
    "        iqr = q3 - q1\n",
    "        lower = q1 - 1.5 * iqr\n",
    "        upper = q3 + 1.5 * iqr\n",
    "        no_outliers = df[(df[column] >= lower) & (df[column] <= upper)]\n",
    "        return no_outliers\n",
    "    \n",
    "    else:\n",
    "        return df\n",
    "\n",
    "for col in airbnb.columns:\n",
    "    airbnb = drop_outliers_iqr(airbnb, col, numeric_cols)"
   ]
  },
  {
   "cell_type": "code",
   "execution_count": null,
   "id": "4f5bc69d",
   "metadata": {},
   "outputs": [],
   "source": [
    "sns.set_palette('Set2')\n",
    "sns.set_style('dark')"
   ]
  },
  {
   "cell_type": "markdown",
   "id": "98ba06da",
   "metadata": {},
   "source": [
    "https://account.mapbox.com/access-tokens/"
   ]
  },
  {
   "cell_type": "code",
   "execution_count": null,
   "id": "46f1be28",
   "metadata": {},
   "outputs": [],
   "source": [
    "import plotly.express as px\n",
    "token = 'pk.eyJ1IjoidHNoamMiLCJhIjoiY2xld2JvaWpkMGM0dTNwbGVtZ28xdjJpZyJ9.k7s2Irbkgka5eWTMzWuGpg'\n",
    "px.set_mapbox_access_token(token)"
   ]
  },
  {
   "cell_type": "markdown",
   "id": "c2980f4c",
   "metadata": {},
   "source": [
    "https://plotly.com/python/builtin-colorscales/"
   ]
  },
  {
   "cell_type": "code",
   "execution_count": null,
   "id": "5b2dbf26",
   "metadata": {},
   "outputs": [],
   "source": []
  },
  {
   "cell_type": "code",
   "execution_count": null,
   "id": "d5a1b078",
   "metadata": {},
   "outputs": [],
   "source": []
  },
  {
   "cell_type": "code",
   "execution_count": null,
   "id": "4581583f",
   "metadata": {},
   "outputs": [],
   "source": []
  },
  {
   "cell_type": "code",
   "execution_count": null,
   "id": "5ab912c0",
   "metadata": {},
   "outputs": [],
   "source": []
  },
  {
   "cell_type": "code",
   "execution_count": null,
   "id": "e9d776e3",
   "metadata": {},
   "outputs": [],
   "source": []
  },
  {
   "cell_type": "code",
   "execution_count": null,
   "id": "0ee98e4c",
   "metadata": {},
   "outputs": [],
   "source": []
  },
  {
   "cell_type": "code",
   "execution_count": null,
   "id": "47809856",
   "metadata": {},
   "outputs": [],
   "source": []
  },
  {
   "cell_type": "code",
   "execution_count": null,
   "id": "29fe4404",
   "metadata": {},
   "outputs": [],
   "source": []
  },
  {
   "cell_type": "markdown",
   "id": "a320db5d",
   "metadata": {},
   "source": [
    "# Scatter Plot"
   ]
  },
  {
   "cell_type": "code",
   "execution_count": null,
   "id": "952700ba",
   "metadata": {},
   "outputs": [],
   "source": [
    "fig, ax =plt.subplots()\n"
   ]
  },
  {
   "cell_type": "markdown",
   "id": "ba6bc2e0",
   "metadata": {},
   "source": [
    "# Histogram"
   ]
  },
  {
   "cell_type": "code",
   "execution_count": null,
   "id": "e872ed0e",
   "metadata": {},
   "outputs": [],
   "source": [
    "nor_mean = airbnb.number_of_reviews.mean()\n",
    "\n"
   ]
  },
  {
   "cell_type": "markdown",
   "id": "7356b861",
   "metadata": {},
   "source": [
    "# Line Plot"
   ]
  },
  {
   "cell_type": "code",
   "execution_count": null,
   "id": "eff29024",
   "metadata": {},
   "outputs": [],
   "source": [
    "import numpy as np\n",
    "fig, ax=plt.subplots()\n",
    "\n"
   ]
  },
  {
   "cell_type": "markdown",
   "id": "64cf0c62",
   "metadata": {},
   "source": [
    "# Box Plot"
   ]
  },
  {
   "cell_type": "code",
   "execution_count": null,
   "id": "2c9628e4",
   "metadata": {},
   "outputs": [],
   "source": []
  },
  {
   "cell_type": "markdown",
   "id": "26e379cf",
   "metadata": {},
   "source": [
    "# Bar Chart & Subplot"
   ]
  },
  {
   "cell_type": "code",
   "execution_count": null,
   "id": "31339d0f",
   "metadata": {},
   "outputs": [],
   "source": [
    "movie_final= pd.read_csv(\"movie.csv\")"
   ]
  },
  {
   "cell_type": "code",
   "execution_count": null,
   "id": "a2c34a6d",
   "metadata": {},
   "outputs": [],
   "source": [
    "mf_crcg=movie_final[['content_rating', 'country', 'gross']].groupby(by=['country','content_rating']).count()\n",
    "mf_crcg=mf_crcg.unstack()\n",
    "mf_crcg=mf_crcg.fillna(0)\n",
    "mf_crcg['Total']=mf_crcg.sum(axis=1)\n",
    "mf_crcg=mf_crcg.sort_values(by=\"Total\", ascending = True)\n",
    "y=mf_crcg.sum(axis=1).max()\n",
    "mf_crcg.drop('Total', axis=1, inplace=True)\n",
    "mf_crcg_norm=mf_crcg.div(mf_crcg.sum(axis=1),axis=0)"
   ]
  },
  {
   "cell_type": "code",
   "execution_count": null,
   "id": "9c9d4b48",
   "metadata": {},
   "outputs": [],
   "source": [
    "fig = plt.figure()\n",
    "\n"
   ]
  },
  {
   "cell_type": "markdown",
   "id": "9dccdc49",
   "metadata": {},
   "source": [
    "# Scatter Matrix"
   ]
  },
  {
   "cell_type": "code",
   "execution_count": null,
   "id": "0d69851c-7300-4683-bbc6-0bfd67f0eb15",
   "metadata": {},
   "outputs": [],
   "source": [
    "pip install --upgrade seaborn"
   ]
  },
  {
   "cell_type": "code",
   "execution_count": null,
   "id": "50c916dc",
   "metadata": {},
   "outputs": [],
   "source": []
  },
  {
   "cell_type": "code",
   "execution_count": null,
   "id": "57ac4b9f",
   "metadata": {},
   "outputs": [],
   "source": []
  },
  {
   "cell_type": "code",
   "execution_count": null,
   "id": "249b1c0b",
   "metadata": {},
   "outputs": [],
   "source": []
  },
  {
   "cell_type": "code",
   "execution_count": null,
   "id": "d2153c2a",
   "metadata": {},
   "outputs": [],
   "source": []
  }
 ],
 "metadata": {
  "kernelspec": {
   "display_name": "Python 3 (ipykernel)",
   "language": "python",
   "name": "python3"
  },
  "language_info": {
   "codemirror_mode": {
    "name": "ipython",
    "version": 3
   },
   "file_extension": ".py",
   "mimetype": "text/x-python",
   "name": "python",
   "nbconvert_exporter": "python",
   "pygments_lexer": "ipython3",
   "version": "3.9.12"
  }
 },
 "nbformat": 4,
 "nbformat_minor": 5
}
