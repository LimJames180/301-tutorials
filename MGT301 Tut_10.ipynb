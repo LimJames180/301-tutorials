{
 "cells": [
  {
   "cell_type": "markdown",
   "id": "36cb5cc3-061e-4b7f-bd47-61e5d9408629",
   "metadata": {},
   "source": [
    "# Tutorial 10 ✧•̀.̫•́✧"
   ]
  },
  {
   "cell_type": "code",
   "execution_count": 1,
   "id": "36b2cf00",
   "metadata": {},
   "outputs": [],
   "source": [
    "import numpy as np\n",
    "import pandas as pd\n",
    "import matplotlib.pyplot as plt\n",
    "\n",
    "from sklearn.preprocessing import StandardScaler\n",
    "from sklearn.model_selection import train_test_split\n",
    "from sklearn.model_selection import KFold\n",
    "from sklearn.model_selection import cross_val_score\n",
    "from sklearn.model_selection import GridSearchCV\n",
    "from sklearn.linear_model import LinearRegression\n",
    "from sklearn.linear_model import Lasso\n",
    "from sklearn.linear_model import Ridge\n",
    "from sklearn.linear_model import ElasticNet\n",
    "from sklearn.tree import DecisionTreeRegressor\n",
    "from sklearn.neighbors import KNeighborsRegressor\n",
    "from sklearn.svm import SVR\n",
    "from sklearn.metrics import mean_squared_error\n",
    "from sklearn.feature_selection import SequentialFeatureSelector"
   ]
  },
  {
   "cell_type": "code",
   "execution_count": 2,
   "id": "dc930dfe",
   "metadata": {},
   "outputs": [
    {
     "name": "stdout",
     "output_type": "stream",
     "text": [
      "1.0.2\n"
     ]
    }
   ],
   "source": [
    "import sklearn\n",
    "print(sklearn.__version__)"
   ]
  },
  {
   "cell_type": "code",
   "execution_count": 3,
   "id": "1961e738",
   "metadata": {},
   "outputs": [
    {
     "data": {
      "text/html": [
       "<div>\n",
       "<style scoped>\n",
       "    .dataframe tbody tr th:only-of-type {\n",
       "        vertical-align: middle;\n",
       "    }\n",
       "\n",
       "    .dataframe tbody tr th {\n",
       "        vertical-align: top;\n",
       "    }\n",
       "\n",
       "    .dataframe thead th {\n",
       "        text-align: right;\n",
       "    }\n",
       "</style>\n",
       "<table border=\"1\" class=\"dataframe\">\n",
       "  <thead>\n",
       "    <tr style=\"text-align: right;\">\n",
       "      <th></th>\n",
       "      <th>id</th>\n",
       "      <th>date</th>\n",
       "      <th>price</th>\n",
       "      <th>bedrooms</th>\n",
       "      <th>bathrooms</th>\n",
       "      <th>sqft_living</th>\n",
       "      <th>sqft_lot</th>\n",
       "      <th>floors</th>\n",
       "      <th>waterfront</th>\n",
       "      <th>view</th>\n",
       "      <th>...</th>\n",
       "      <th>grade</th>\n",
       "      <th>sqft_above</th>\n",
       "      <th>sqft_basement</th>\n",
       "      <th>yr_built</th>\n",
       "      <th>yr_renovated</th>\n",
       "      <th>zipcode</th>\n",
       "      <th>lat</th>\n",
       "      <th>long</th>\n",
       "      <th>sqft_living15</th>\n",
       "      <th>sqft_lot15</th>\n",
       "    </tr>\n",
       "  </thead>\n",
       "  <tbody>\n",
       "    <tr>\n",
       "      <th>0</th>\n",
       "      <td>7129300520</td>\n",
       "      <td>20141013T000000</td>\n",
       "      <td>221900.0</td>\n",
       "      <td>3</td>\n",
       "      <td>1.00</td>\n",
       "      <td>1180</td>\n",
       "      <td>5650</td>\n",
       "      <td>1.0</td>\n",
       "      <td>0</td>\n",
       "      <td>0</td>\n",
       "      <td>...</td>\n",
       "      <td>7</td>\n",
       "      <td>1180</td>\n",
       "      <td>0</td>\n",
       "      <td>1955</td>\n",
       "      <td>0</td>\n",
       "      <td>98178</td>\n",
       "      <td>47.5112</td>\n",
       "      <td>-122.257</td>\n",
       "      <td>1340</td>\n",
       "      <td>5650</td>\n",
       "    </tr>\n",
       "    <tr>\n",
       "      <th>1</th>\n",
       "      <td>6414100192</td>\n",
       "      <td>20141209T000000</td>\n",
       "      <td>538000.0</td>\n",
       "      <td>3</td>\n",
       "      <td>2.25</td>\n",
       "      <td>2570</td>\n",
       "      <td>7242</td>\n",
       "      <td>2.0</td>\n",
       "      <td>0</td>\n",
       "      <td>0</td>\n",
       "      <td>...</td>\n",
       "      <td>7</td>\n",
       "      <td>2170</td>\n",
       "      <td>400</td>\n",
       "      <td>1951</td>\n",
       "      <td>1991</td>\n",
       "      <td>98125</td>\n",
       "      <td>47.7210</td>\n",
       "      <td>-122.319</td>\n",
       "      <td>1690</td>\n",
       "      <td>7639</td>\n",
       "    </tr>\n",
       "    <tr>\n",
       "      <th>2</th>\n",
       "      <td>5631500400</td>\n",
       "      <td>20150225T000000</td>\n",
       "      <td>180000.0</td>\n",
       "      <td>2</td>\n",
       "      <td>1.00</td>\n",
       "      <td>770</td>\n",
       "      <td>10000</td>\n",
       "      <td>1.0</td>\n",
       "      <td>0</td>\n",
       "      <td>0</td>\n",
       "      <td>...</td>\n",
       "      <td>6</td>\n",
       "      <td>770</td>\n",
       "      <td>0</td>\n",
       "      <td>1933</td>\n",
       "      <td>0</td>\n",
       "      <td>98028</td>\n",
       "      <td>47.7379</td>\n",
       "      <td>-122.233</td>\n",
       "      <td>2720</td>\n",
       "      <td>8062</td>\n",
       "    </tr>\n",
       "    <tr>\n",
       "      <th>3</th>\n",
       "      <td>2487200875</td>\n",
       "      <td>20141209T000000</td>\n",
       "      <td>604000.0</td>\n",
       "      <td>4</td>\n",
       "      <td>3.00</td>\n",
       "      <td>1960</td>\n",
       "      <td>5000</td>\n",
       "      <td>1.0</td>\n",
       "      <td>0</td>\n",
       "      <td>0</td>\n",
       "      <td>...</td>\n",
       "      <td>7</td>\n",
       "      <td>1050</td>\n",
       "      <td>910</td>\n",
       "      <td>1965</td>\n",
       "      <td>0</td>\n",
       "      <td>98136</td>\n",
       "      <td>47.5208</td>\n",
       "      <td>-122.393</td>\n",
       "      <td>1360</td>\n",
       "      <td>5000</td>\n",
       "    </tr>\n",
       "    <tr>\n",
       "      <th>4</th>\n",
       "      <td>1954400510</td>\n",
       "      <td>20150218T000000</td>\n",
       "      <td>510000.0</td>\n",
       "      <td>3</td>\n",
       "      <td>2.00</td>\n",
       "      <td>1680</td>\n",
       "      <td>8080</td>\n",
       "      <td>1.0</td>\n",
       "      <td>0</td>\n",
       "      <td>0</td>\n",
       "      <td>...</td>\n",
       "      <td>8</td>\n",
       "      <td>1680</td>\n",
       "      <td>0</td>\n",
       "      <td>1987</td>\n",
       "      <td>0</td>\n",
       "      <td>98074</td>\n",
       "      <td>47.6168</td>\n",
       "      <td>-122.045</td>\n",
       "      <td>1800</td>\n",
       "      <td>7503</td>\n",
       "    </tr>\n",
       "  </tbody>\n",
       "</table>\n",
       "<p>5 rows × 21 columns</p>\n",
       "</div>"
      ],
      "text/plain": [
       "           id             date     price  bedrooms  bathrooms  sqft_living  \\\n",
       "0  7129300520  20141013T000000  221900.0         3       1.00         1180   \n",
       "1  6414100192  20141209T000000  538000.0         3       2.25         2570   \n",
       "2  5631500400  20150225T000000  180000.0         2       1.00          770   \n",
       "3  2487200875  20141209T000000  604000.0         4       3.00         1960   \n",
       "4  1954400510  20150218T000000  510000.0         3       2.00         1680   \n",
       "\n",
       "   sqft_lot  floors  waterfront  view  ...  grade  sqft_above  sqft_basement  \\\n",
       "0      5650     1.0           0     0  ...      7        1180              0   \n",
       "1      7242     2.0           0     0  ...      7        2170            400   \n",
       "2     10000     1.0           0     0  ...      6         770              0   \n",
       "3      5000     1.0           0     0  ...      7        1050            910   \n",
       "4      8080     1.0           0     0  ...      8        1680              0   \n",
       "\n",
       "   yr_built  yr_renovated  zipcode      lat     long  sqft_living15  \\\n",
       "0      1955             0    98178  47.5112 -122.257           1340   \n",
       "1      1951          1991    98125  47.7210 -122.319           1690   \n",
       "2      1933             0    98028  47.7379 -122.233           2720   \n",
       "3      1965             0    98136  47.5208 -122.393           1360   \n",
       "4      1987             0    98074  47.6168 -122.045           1800   \n",
       "\n",
       "   sqft_lot15  \n",
       "0        5650  \n",
       "1        7639  \n",
       "2        8062  \n",
       "3        5000  \n",
       "4        7503  \n",
       "\n",
       "[5 rows x 21 columns]"
      ]
     },
     "execution_count": 3,
     "metadata": {},
     "output_type": "execute_result"
    }
   ],
   "source": [
    "house = pd.read_csv('kc_house_data.csv')\n",
    "house.head()"
   ]
  },
  {
   "cell_type": "code",
   "execution_count": 4,
   "id": "ea9f81d9",
   "metadata": {},
   "outputs": [],
   "source": [
    "house.drop(['id', 'date', 'zipcode'], axis=1, inplace=True)"
   ]
  },
  {
   "cell_type": "code",
   "execution_count": 5,
   "id": "52b86b4a",
   "metadata": {},
   "outputs": [
    {
     "name": "stdout",
     "output_type": "stream",
     "text": [
      "<class 'pandas.core.frame.DataFrame'>\n",
      "RangeIndex: 21613 entries, 0 to 21612\n",
      "Data columns (total 18 columns):\n",
      " #   Column         Non-Null Count  Dtype  \n",
      "---  ------         --------------  -----  \n",
      " 0   price          21613 non-null  float64\n",
      " 1   bedrooms       21613 non-null  int64  \n",
      " 2   bathrooms      21613 non-null  float64\n",
      " 3   sqft_living    21613 non-null  int64  \n",
      " 4   sqft_lot       21613 non-null  int64  \n",
      " 5   floors         21613 non-null  float64\n",
      " 6   waterfront     21613 non-null  int64  \n",
      " 7   view           21613 non-null  int64  \n",
      " 8   condition      21613 non-null  int64  \n",
      " 9   grade          21613 non-null  int64  \n",
      " 10  sqft_above     21613 non-null  int64  \n",
      " 11  sqft_basement  21613 non-null  int64  \n",
      " 12  yr_built       21613 non-null  int64  \n",
      " 13  yr_renovated   21613 non-null  int64  \n",
      " 14  lat            21613 non-null  float64\n",
      " 15  long           21613 non-null  float64\n",
      " 16  sqft_living15  21613 non-null  int64  \n",
      " 17  sqft_lot15     21613 non-null  int64  \n",
      "dtypes: float64(5), int64(13)\n",
      "memory usage: 3.0 MB\n"
     ]
    }
   ],
   "source": [
    "house.info()"
   ]
  },
  {
   "cell_type": "code",
   "execution_count": 6,
   "id": "119d70bc",
   "metadata": {},
   "outputs": [],
   "source": [
    "X = house.iloc[:, 1:]\n",
    "y = house.iloc[:, 0]"
   ]
  },
  {
   "cell_type": "code",
   "execution_count": 7,
   "id": "cc659be1",
   "metadata": {},
   "outputs": [
    {
     "data": {
      "text/html": [
       "<div>\n",
       "<style scoped>\n",
       "    .dataframe tbody tr th:only-of-type {\n",
       "        vertical-align: middle;\n",
       "    }\n",
       "\n",
       "    .dataframe tbody tr th {\n",
       "        vertical-align: top;\n",
       "    }\n",
       "\n",
       "    .dataframe thead th {\n",
       "        text-align: right;\n",
       "    }\n",
       "</style>\n",
       "<table border=\"1\" class=\"dataframe\">\n",
       "  <thead>\n",
       "    <tr style=\"text-align: right;\">\n",
       "      <th></th>\n",
       "      <th>sqft_living</th>\n",
       "      <th>sqft_lot</th>\n",
       "      <th>sqft_above</th>\n",
       "      <th>sqft_basement</th>\n",
       "      <th>yr_built</th>\n",
       "      <th>yr_renovated</th>\n",
       "      <th>sqft_living15</th>\n",
       "      <th>sqft_lot15</th>\n",
       "      <th>lat</th>\n",
       "      <th>long</th>\n",
       "    </tr>\n",
       "  </thead>\n",
       "  <tbody>\n",
       "    <tr>\n",
       "      <th>0</th>\n",
       "      <td>-0.979835</td>\n",
       "      <td>-0.228321</td>\n",
       "      <td>-0.734708</td>\n",
       "      <td>-0.658681</td>\n",
       "      <td>-0.544898</td>\n",
       "      <td>-0.210128</td>\n",
       "      <td>-0.943355</td>\n",
       "      <td>-0.260715</td>\n",
       "      <td>-0.352572</td>\n",
       "      <td>-0.306079</td>\n",
       "    </tr>\n",
       "    <tr>\n",
       "      <th>1</th>\n",
       "      <td>0.533634</td>\n",
       "      <td>-0.189885</td>\n",
       "      <td>0.460841</td>\n",
       "      <td>0.245141</td>\n",
       "      <td>-0.681079</td>\n",
       "      <td>4.746678</td>\n",
       "      <td>-0.432686</td>\n",
       "      <td>-0.187868</td>\n",
       "      <td>1.161568</td>\n",
       "      <td>-0.746341</td>\n",
       "    </tr>\n",
       "    <tr>\n",
       "      <th>2</th>\n",
       "      <td>-1.426254</td>\n",
       "      <td>-0.123298</td>\n",
       "      <td>-1.229834</td>\n",
       "      <td>-0.658681</td>\n",
       "      <td>-1.293892</td>\n",
       "      <td>-0.210128</td>\n",
       "      <td>1.070140</td>\n",
       "      <td>-0.172375</td>\n",
       "      <td>1.283537</td>\n",
       "      <td>-0.135655</td>\n",
       "    </tr>\n",
       "    <tr>\n",
       "      <th>3</th>\n",
       "      <td>-0.130550</td>\n",
       "      <td>-0.244014</td>\n",
       "      <td>-0.891699</td>\n",
       "      <td>1.397515</td>\n",
       "      <td>-0.204446</td>\n",
       "      <td>-0.210128</td>\n",
       "      <td>-0.914174</td>\n",
       "      <td>-0.284522</td>\n",
       "      <td>-0.283288</td>\n",
       "      <td>-1.271816</td>\n",
       "    </tr>\n",
       "    <tr>\n",
       "      <th>4</th>\n",
       "      <td>-0.435422</td>\n",
       "      <td>-0.169653</td>\n",
       "      <td>-0.130895</td>\n",
       "      <td>-0.658681</td>\n",
       "      <td>0.544548</td>\n",
       "      <td>-0.210128</td>\n",
       "      <td>-0.272190</td>\n",
       "      <td>-0.192849</td>\n",
       "      <td>0.409550</td>\n",
       "      <td>1.199335</td>\n",
       "    </tr>\n",
       "  </tbody>\n",
       "</table>\n",
       "</div>"
      ],
      "text/plain": [
       "   sqft_living  sqft_lot  sqft_above  sqft_basement  yr_built  yr_renovated  \\\n",
       "0    -0.979835 -0.228321   -0.734708      -0.658681 -0.544898     -0.210128   \n",
       "1     0.533634 -0.189885    0.460841       0.245141 -0.681079      4.746678   \n",
       "2    -1.426254 -0.123298   -1.229834      -0.658681 -1.293892     -0.210128   \n",
       "3    -0.130550 -0.244014   -0.891699       1.397515 -0.204446     -0.210128   \n",
       "4    -0.435422 -0.169653   -0.130895      -0.658681  0.544548     -0.210128   \n",
       "\n",
       "   sqft_living15  sqft_lot15       lat      long  \n",
       "0      -0.943355   -0.260715 -0.352572 -0.306079  \n",
       "1      -0.432686   -0.187868  1.161568 -0.746341  \n",
       "2       1.070140   -0.172375  1.283537 -0.135655  \n",
       "3      -0.914174   -0.284522 -0.283288 -1.271816  \n",
       "4      -0.272190   -0.192849  0.409550  1.199335  "
      ]
     },
     "execution_count": 7,
     "metadata": {},
     "output_type": "execute_result"
    }
   ],
   "source": [
    "numeric_cols = ['sqft_living', 'sqft_lot', 'sqft_above', 'sqft_basement', \n",
    "                'yr_built', 'yr_renovated', 'sqft_living15', 'sqft_lot15', 'lat', 'long']\n",
    "scaler = StandardScaler().fit(X[numeric_cols])\n",
    "X[numeric_cols] = scaler.transform(X[numeric_cols])\n",
    "X[numeric_cols].head()"
   ]
  },
  {
   "cell_type": "code",
   "execution_count": 8,
   "id": "64028b02",
   "metadata": {},
   "outputs": [
    {
     "data": {
      "text/html": [
       "<div>\n",
       "<style scoped>\n",
       "    .dataframe tbody tr th:only-of-type {\n",
       "        vertical-align: middle;\n",
       "    }\n",
       "\n",
       "    .dataframe tbody tr th {\n",
       "        vertical-align: top;\n",
       "    }\n",
       "\n",
       "    .dataframe thead th {\n",
       "        text-align: right;\n",
       "    }\n",
       "</style>\n",
       "<table border=\"1\" class=\"dataframe\">\n",
       "  <thead>\n",
       "    <tr style=\"text-align: right;\">\n",
       "      <th></th>\n",
       "      <th>bedrooms</th>\n",
       "      <th>bathrooms</th>\n",
       "      <th>sqft_living</th>\n",
       "      <th>sqft_lot</th>\n",
       "      <th>floors</th>\n",
       "      <th>waterfront</th>\n",
       "      <th>view</th>\n",
       "      <th>condition</th>\n",
       "      <th>grade</th>\n",
       "      <th>sqft_above</th>\n",
       "      <th>sqft_basement</th>\n",
       "      <th>yr_built</th>\n",
       "      <th>yr_renovated</th>\n",
       "      <th>lat</th>\n",
       "      <th>long</th>\n",
       "      <th>sqft_living15</th>\n",
       "      <th>sqft_lot15</th>\n",
       "    </tr>\n",
       "  </thead>\n",
       "  <tbody>\n",
       "    <tr>\n",
       "      <th>0</th>\n",
       "      <td>3</td>\n",
       "      <td>1.00</td>\n",
       "      <td>-0.979835</td>\n",
       "      <td>-0.228321</td>\n",
       "      <td>1.0</td>\n",
       "      <td>0</td>\n",
       "      <td>0</td>\n",
       "      <td>3</td>\n",
       "      <td>7</td>\n",
       "      <td>-0.734708</td>\n",
       "      <td>-0.658681</td>\n",
       "      <td>-0.544898</td>\n",
       "      <td>-0.210128</td>\n",
       "      <td>-0.352572</td>\n",
       "      <td>-0.306079</td>\n",
       "      <td>-0.943355</td>\n",
       "      <td>-0.260715</td>\n",
       "    </tr>\n",
       "    <tr>\n",
       "      <th>1</th>\n",
       "      <td>3</td>\n",
       "      <td>2.25</td>\n",
       "      <td>0.533634</td>\n",
       "      <td>-0.189885</td>\n",
       "      <td>2.0</td>\n",
       "      <td>0</td>\n",
       "      <td>0</td>\n",
       "      <td>3</td>\n",
       "      <td>7</td>\n",
       "      <td>0.460841</td>\n",
       "      <td>0.245141</td>\n",
       "      <td>-0.681079</td>\n",
       "      <td>4.746678</td>\n",
       "      <td>1.161568</td>\n",
       "      <td>-0.746341</td>\n",
       "      <td>-0.432686</td>\n",
       "      <td>-0.187868</td>\n",
       "    </tr>\n",
       "    <tr>\n",
       "      <th>2</th>\n",
       "      <td>2</td>\n",
       "      <td>1.00</td>\n",
       "      <td>-1.426254</td>\n",
       "      <td>-0.123298</td>\n",
       "      <td>1.0</td>\n",
       "      <td>0</td>\n",
       "      <td>0</td>\n",
       "      <td>3</td>\n",
       "      <td>6</td>\n",
       "      <td>-1.229834</td>\n",
       "      <td>-0.658681</td>\n",
       "      <td>-1.293892</td>\n",
       "      <td>-0.210128</td>\n",
       "      <td>1.283537</td>\n",
       "      <td>-0.135655</td>\n",
       "      <td>1.070140</td>\n",
       "      <td>-0.172375</td>\n",
       "    </tr>\n",
       "    <tr>\n",
       "      <th>3</th>\n",
       "      <td>4</td>\n",
       "      <td>3.00</td>\n",
       "      <td>-0.130550</td>\n",
       "      <td>-0.244014</td>\n",
       "      <td>1.0</td>\n",
       "      <td>0</td>\n",
       "      <td>0</td>\n",
       "      <td>5</td>\n",
       "      <td>7</td>\n",
       "      <td>-0.891699</td>\n",
       "      <td>1.397515</td>\n",
       "      <td>-0.204446</td>\n",
       "      <td>-0.210128</td>\n",
       "      <td>-0.283288</td>\n",
       "      <td>-1.271816</td>\n",
       "      <td>-0.914174</td>\n",
       "      <td>-0.284522</td>\n",
       "    </tr>\n",
       "    <tr>\n",
       "      <th>4</th>\n",
       "      <td>3</td>\n",
       "      <td>2.00</td>\n",
       "      <td>-0.435422</td>\n",
       "      <td>-0.169653</td>\n",
       "      <td>1.0</td>\n",
       "      <td>0</td>\n",
       "      <td>0</td>\n",
       "      <td>3</td>\n",
       "      <td>8</td>\n",
       "      <td>-0.130895</td>\n",
       "      <td>-0.658681</td>\n",
       "      <td>0.544548</td>\n",
       "      <td>-0.210128</td>\n",
       "      <td>0.409550</td>\n",
       "      <td>1.199335</td>\n",
       "      <td>-0.272190</td>\n",
       "      <td>-0.192849</td>\n",
       "    </tr>\n",
       "  </tbody>\n",
       "</table>\n",
       "</div>"
      ],
      "text/plain": [
       "   bedrooms  bathrooms  sqft_living  sqft_lot  floors  waterfront  view  \\\n",
       "0         3       1.00    -0.979835 -0.228321     1.0           0     0   \n",
       "1         3       2.25     0.533634 -0.189885     2.0           0     0   \n",
       "2         2       1.00    -1.426254 -0.123298     1.0           0     0   \n",
       "3         4       3.00    -0.130550 -0.244014     1.0           0     0   \n",
       "4         3       2.00    -0.435422 -0.169653     1.0           0     0   \n",
       "\n",
       "   condition  grade  sqft_above  sqft_basement  yr_built  yr_renovated  \\\n",
       "0          3      7   -0.734708      -0.658681 -0.544898     -0.210128   \n",
       "1          3      7    0.460841       0.245141 -0.681079      4.746678   \n",
       "2          3      6   -1.229834      -0.658681 -1.293892     -0.210128   \n",
       "3          5      7   -0.891699       1.397515 -0.204446     -0.210128   \n",
       "4          3      8   -0.130895      -0.658681  0.544548     -0.210128   \n",
       "\n",
       "        lat      long  sqft_living15  sqft_lot15  \n",
       "0 -0.352572 -0.306079      -0.943355   -0.260715  \n",
       "1  1.161568 -0.746341      -0.432686   -0.187868  \n",
       "2  1.283537 -0.135655       1.070140   -0.172375  \n",
       "3 -0.283288 -1.271816      -0.914174   -0.284522  \n",
       "4  0.409550  1.199335      -0.272190   -0.192849  "
      ]
     },
     "execution_count": 8,
     "metadata": {},
     "output_type": "execute_result"
    }
   ],
   "source": [
    "X.head()"
   ]
  },
  {
   "cell_type": "code",
   "execution_count": 9,
   "id": "64ec4ea2",
   "metadata": {},
   "outputs": [
    {
     "data": {
      "text/plain": [
       "0    221900.0\n",
       "1    538000.0\n",
       "2    180000.0\n",
       "3    604000.0\n",
       "4    510000.0\n",
       "Name: price, dtype: float64"
      ]
     },
     "execution_count": 9,
     "metadata": {},
     "output_type": "execute_result"
    }
   ],
   "source": [
    "y.head()"
   ]
  },
  {
   "cell_type": "code",
   "execution_count": 10,
   "id": "5ace8fec",
   "metadata": {},
   "outputs": [],
   "source": [
    "test_size = 0.3\n",
    "seed = 42\n",
    "X_train, X_test, y_train, y_test = train_test_split(X, y, test_size=test_size, random_state=seed)"
   ]
  },
  {
   "cell_type": "code",
   "execution_count": 11,
   "id": "55612d78",
   "metadata": {},
   "outputs": [
    {
     "data": {
      "text/plain": [
       "(15129, 6484, 15129, 6484)"
      ]
     },
     "execution_count": 11,
     "metadata": {},
     "output_type": "execute_result"
    }
   ],
   "source": [
    "len(X_train), len(X_test), len(y_train), len(y_test)"
   ]
  },
  {
   "cell_type": "code",
   "execution_count": 12,
   "id": "ea955963",
   "metadata": {},
   "outputs": [
    {
     "name": "stdout",
     "output_type": "stream",
     "text": [
      "LR: -40027354024.894325 (6003845690.619203)\n"
     ]
    },
    {
     "name": "stderr",
     "output_type": "stream",
     "text": [
      "/Users/yayayaao/opt/anaconda3/lib/python3.9/site-packages/sklearn/linear_model/_coordinate_descent.py:647: ConvergenceWarning: Objective did not converge. You might want to increase the number of iterations, check the scale of the features or consider increasing regularisation. Duality gap: 1.496e+13, tolerance: 1.727e+11\n",
      "  model = cd_fast.enet_coordinate_descent(\n",
      "/Users/yayayaao/opt/anaconda3/lib/python3.9/site-packages/sklearn/linear_model/_coordinate_descent.py:647: ConvergenceWarning: Objective did not converge. You might want to increase the number of iterations, check the scale of the features or consider increasing regularisation. Duality gap: 2.554e+13, tolerance: 1.764e+11\n",
      "  model = cd_fast.enet_coordinate_descent(\n",
      "/Users/yayayaao/opt/anaconda3/lib/python3.9/site-packages/sklearn/linear_model/_coordinate_descent.py:647: ConvergenceWarning: Objective did not converge. You might want to increase the number of iterations, check the scale of the features or consider increasing regularisation. Duality gap: 2.581e+13, tolerance: 1.797e+11\n",
      "  model = cd_fast.enet_coordinate_descent(\n",
      "/Users/yayayaao/opt/anaconda3/lib/python3.9/site-packages/sklearn/linear_model/_coordinate_descent.py:647: ConvergenceWarning: Objective did not converge. You might want to increase the number of iterations, check the scale of the features or consider increasing regularisation. Duality gap: 1.556e+13, tolerance: 1.781e+11\n",
      "  model = cd_fast.enet_coordinate_descent(\n",
      "/Users/yayayaao/opt/anaconda3/lib/python3.9/site-packages/sklearn/linear_model/_coordinate_descent.py:647: ConvergenceWarning: Objective did not converge. You might want to increase the number of iterations, check the scale of the features or consider increasing regularisation. Duality gap: 2.542e+13, tolerance: 1.787e+11\n",
      "  model = cd_fast.enet_coordinate_descent(\n",
      "/Users/yayayaao/opt/anaconda3/lib/python3.9/site-packages/sklearn/linear_model/_coordinate_descent.py:647: ConvergenceWarning: Objective did not converge. You might want to increase the number of iterations, check the scale of the features or consider increasing regularisation. Duality gap: 2.637e+13, tolerance: 1.828e+11\n",
      "  model = cd_fast.enet_coordinate_descent(\n",
      "/Users/yayayaao/opt/anaconda3/lib/python3.9/site-packages/sklearn/linear_model/_coordinate_descent.py:647: ConvergenceWarning: Objective did not converge. You might want to increase the number of iterations, check the scale of the features or consider increasing regularisation. Duality gap: 1.552e+13, tolerance: 1.737e+11\n",
      "  model = cd_fast.enet_coordinate_descent(\n",
      "/Users/yayayaao/opt/anaconda3/lib/python3.9/site-packages/sklearn/linear_model/_coordinate_descent.py:647: ConvergenceWarning: Objective did not converge. You might want to increase the number of iterations, check the scale of the features or consider increasing regularisation. Duality gap: 1.620e+13, tolerance: 1.803e+11\n",
      "  model = cd_fast.enet_coordinate_descent(\n",
      "/Users/yayayaao/opt/anaconda3/lib/python3.9/site-packages/sklearn/linear_model/_coordinate_descent.py:647: ConvergenceWarning: Objective did not converge. You might want to increase the number of iterations, check the scale of the features or consider increasing regularisation. Duality gap: 1.591e+13, tolerance: 1.784e+11\n",
      "  model = cd_fast.enet_coordinate_descent(\n",
      "/Users/yayayaao/opt/anaconda3/lib/python3.9/site-packages/sklearn/linear_model/_coordinate_descent.py:647: ConvergenceWarning: Objective did not converge. You might want to increase the number of iterations, check the scale of the features or consider increasing regularisation. Duality gap: 2.561e+13, tolerance: 1.781e+11\n",
      "  model = cd_fast.enet_coordinate_descent(\n"
     ]
    },
    {
     "name": "stdout",
     "output_type": "stream",
     "text": [
      "LASSO: -40027324888.488815 (6003745977.550856)\n",
      "RIDGE: -40027162167.342827 (6001751229.964811)\n",
      "EN: -45541675598.565956 (8173786674.223042)\n",
      "KNN: -26377493593.842590 (5119205996.575696)\n",
      "CART: -31708988440.531281 (4405616614.054177)\n"
     ]
    }
   ],
   "source": [
    "num_folds = 10\n",
    "seed = 42\n",
    "scoring = 'neg_mean_squared_error' \n",
    "\n",
    "models = []\n",
    "models.append(('LR', LinearRegression()))\n",
    "models.append(('LASSO', Lasso(max_iter=1000)))\n",
    "models.append(('RIDGE', Ridge(max_iter=1000)))\n",
    "models.append(('EN', ElasticNet()))\n",
    "models.append(('KNN', KNeighborsRegressor()))\n",
    "models.append(('CART', DecisionTreeRegressor()))\n",
    "# models.append(('SVR', SVR()))\n",
    "\n",
    "results = []\n",
    "names = []\n",
    "for name, model in models:\n",
    "    kfold = KFold(n_splits=num_folds, shuffle=True, random_state=seed)\n",
    "    cv_results = cross_val_score(model, X_train, y_train, cv=kfold, scoring=scoring)\n",
    "    results.append(cv_results)\n",
    "    names.append(name)\n",
    "    msg = \"%s: %f (%f)\" % (name, cv_results.mean(), cv_results.std())\n",
    "    print(msg)"
   ]
  },
  {
   "cell_type": "code",
   "execution_count": 13,
   "id": "1707a53e",
   "metadata": {},
   "outputs": [
    {
     "data": {
      "text/plain": [
       "[Text(1, 0, 'LR'),\n",
       " Text(2, 0, 'LASSO'),\n",
       " Text(3, 0, 'RIDGE'),\n",
       " Text(4, 0, 'EN'),\n",
       " Text(5, 0, 'KNN'),\n",
       " Text(6, 0, 'CART')]"
      ]
     },
     "execution_count": 13,
     "metadata": {},
     "output_type": "execute_result"
    },
    {
     "data": {
      "image/png": "[encoded data removed]",
      "text/plain": [
       "<Figure size 432x288 with 1 Axes>"
      ]
     },
     "metadata": {
      "needs_background": "light"
     },
     "output_type": "display_data"
    }
   ],
   "source": [
    "fig = plt.figure()\n",
    "fig.suptitle('Algorithm Comparison')\n",
    "ax = fig.add_subplot(111)\n",
    "plt.boxplot(results)\n",
    "ax.set_xticklabels(names)"
   ]
  },
  {
   "cell_type": "code",
   "execution_count": 14,
   "id": "bd6f7fba",
   "metadata": {},
   "outputs": [
    {
     "data": {
      "text/plain": [
       "34904254368.60432"
      ]
     },
     "execution_count": 14,
     "metadata": {},
     "output_type": "execute_result"
    }
   ],
   "source": [
    "knn = KNeighborsRegressor()\n",
    "knn.fit(X_train, y_train)\n",
    "pred = knn.predict(X_test)\n",
    "mse_all = mean_squared_error(y_test, pred)\n",
    "mse_all"
   ]
  },
  {
   "cell_type": "markdown",
   "id": "22b8b6e4",
   "metadata": {
    "tags": []
   },
   "source": [
    "## Forward Stepwise Selection"
   ]
  },
  {
   "cell_type": "code",
   "execution_count": 15,
   "id": "32e6f4eb",
   "metadata": {},
   "outputs": [
    {
     "data": {
      "text/plain": [
       "Index(['sqft_living', 'sqft_lot', 'waterfront', 'view', 'grade', 'lat', 'long',\n",
       "       'sqft_lot15'],\n",
       "      dtype='object')"
      ]
     },
     "execution_count": 15,
     "metadata": {},
     "output_type": "execute_result"
    }
   ],
   "source": [
    "sfs = SequentialFeatureSelector(knn, n_features_to_select=None, direction='forward', cv=10)\n",
    "sfs.fit(X_train, y_train)\n",
    "forward_selected_features = sfs.transform(X_train)\n",
    "forward_selected_feature_names = X.columns[sfs.get_support()]\n",
    "forward_selected_feature_names"
   ]
  },
  {
   "cell_type": "code",
   "execution_count": 16,
   "id": "750561c3",
   "metadata": {},
   "outputs": [
    {
     "data": {
      "text/plain": [
       "(-20324668650.53713, 3012996307.898151)"
      ]
     },
     "execution_count": 16,
     "metadata": {},
     "output_type": "execute_result"
    }
   ],
   "source": [
    "X_train_forward_selected = X_train[forward_selected_feature_names]\n",
    "X_test_forward_selected = X_test[forward_selected_feature_names]\n",
    "y_train_forward_selected = y_train\n",
    "y_test_forward_selected = y_test\n",
    "\n",
    "cv_results = cross_val_score(knn, X_train_forward_selected, y_train_forward_selected, cv=kfold, scoring=scoring)\n",
    "cv_results.mean(), cv_results.std()"
   ]
  },
  {
   "cell_type": "code",
   "execution_count": 17,
   "id": "354bd216",
   "metadata": {},
   "outputs": [
    {
     "data": {
      "text/plain": [
       "24141673930.650436"
      ]
     },
     "execution_count": 17,
     "metadata": {},
     "output_type": "execute_result"
    }
   ],
   "source": [
    "knn.fit(X_train_forward_selected, y_train_forward_selected)\n",
    "pred_forward_selected = knn.predict(X_test_forward_selected)\n",
    "mse_forward_selected = mean_squared_error(y_test_forward_selected, pred_forward_selected)\n",
    "mse_forward_selected"
   ]
  },
  {
   "cell_type": "markdown",
   "id": "ad7da997",
   "metadata": {},
   "source": [
    "## Backward Stepwise Selection"
   ]
  },
  {
   "cell_type": "code",
   "execution_count": 18,
   "id": "e69b126c",
   "metadata": {},
   "outputs": [
    {
     "data": {
      "text/plain": [
       "Index(['sqft_living', 'sqft_lot', 'waterfront', 'view', 'grade', 'lat', 'long',\n",
       "       'sqft_lot15'],\n",
       "      dtype='object')"
      ]
     },
     "execution_count": 18,
     "metadata": {},
     "output_type": "execute_result"
    }
   ],
   "source": [
    "sfs = SequentialFeatureSelector(knn, n_features_to_select=None, direction='backward', cv=10)\n",
    "sfs.fit(X_train, y_train)\n",
    "backward_selected_features = sfs.transform(X_train)\n",
    "backward_selected_feature_names = X.columns[sfs.get_support()]\n",
    "backward_selected_feature_names"
   ]
  },
  {
   "cell_type": "code",
   "execution_count": 19,
   "id": "8d08c7cb",
   "metadata": {},
   "outputs": [
    {
     "data": {
      "text/plain": [
       "(-20324668650.53713, 3012996307.898151)"
      ]
     },
     "execution_count": 19,
     "metadata": {},
     "output_type": "execute_result"
    }
   ],
   "source": [
    "X_train_backward_selected = X_train[backward_selected_feature_names]\n",
    "X_test_backward_selected = X_test[backward_selected_feature_names]\n",
    "y_train_backward_selected = y_train\n",
    "y_test_backward_selected = y_test\n",
    "\n",
    "cv_results = cross_val_score(knn, X_train_backward_selected, y_train_backward_selected, cv=kfold, scoring=scoring)\n",
    "cv_results.mean(), cv_results.std()"
   ]
  },
  {
   "cell_type": "code",
   "execution_count": 20,
   "id": "95857d6c",
   "metadata": {},
   "outputs": [
    {
     "data": {
      "text/plain": [
       "24141673930.650436"
      ]
     },
     "execution_count": 20,
     "metadata": {},
     "output_type": "execute_result"
    }
   ],
   "source": [
    "knn.fit(X_train_backward_selected, y_train_backward_selected)\n",
    "pred_backward_selected = knn.predict(X_test_backward_selected)\n",
    "mse_backward_selected = mean_squared_error(y_test_backward_selected, pred_backward_selected)\n",
    "mse_backward_selected"
   ]
  },
  {
   "cell_type": "markdown",
   "id": "c16b0349",
   "metadata": {},
   "source": [
    "## Hyperparameter Tuning\n",
    "\n",
    "Find the optimal number of $k$"
   ]
  },
  {
   "cell_type": "code",
   "execution_count": 21,
   "id": "8fb31f0c",
   "metadata": {},
   "outputs": [
    {
     "name": "stdout",
     "output_type": "stream",
     "text": [
      "Best: -20253140592.623489 using {'n_neighbors': 6}\n"
     ]
    }
   ],
   "source": [
    "k_values = np.arange(1, 30)\n",
    "param_grid = dict(n_neighbors = k_values)\n",
    "kfold = KFold(n_splits=10, shuffle=True, random_state=seed)\n",
    "grid = GridSearchCV(estimator=knn, param_grid=param_grid, scoring=scoring, cv=kfold)\n",
    "grid_result = grid.fit(X_train_forward_selected, y_train_forward_selected)\n",
    "print(\"Best: %f using %s\" % (grid_result.best_score_, grid_result.best_params_))"
   ]
  },
  {
   "cell_type": "code",
   "execution_count": 22,
   "id": "0abf4483",
   "metadata": {},
   "outputs": [
    {
     "data": {
      "text/plain": [
       "GridSearchCV(cv=KFold(n_splits=10, random_state=42, shuffle=True),\n",
       "             estimator=KNeighborsRegressor(),\n",
       "             param_grid={'n_neighbors': array([ 1,  2,  3,  4,  5,  6,  7,  8,  9, 10, 11, 12, 13, 14, 15, 16, 17,\n",
       "       18, 19, 20, 21, 22, 23, 24, 25, 26, 27, 28, 29])},\n",
       "             scoring='neg_mean_squared_error')"
      ]
     },
     "execution_count": 22,
     "metadata": {},
     "output_type": "execute_result"
    }
   ],
   "source": [
    "grid"
   ]
  },
  {
   "cell_type": "code",
   "execution_count": 23,
   "id": "1068eb49",
   "metadata": {},
   "outputs": [
    {
     "name": "stdout",
     "output_type": "stream",
     "text": [
      "-29523995848.970226 (5059930247.413184) with: {'n_neighbors': 1}\n",
      "-23744385188.280098 (3783437883.564294) with: {'n_neighbors': 2}\n",
      "-20993993942.530830 (3058709601.700112) with: {'n_neighbors': 3}\n",
      "-20383617664.021137 (3173140902.864762) with: {'n_neighbors': 4}\n",
      "-20324668650.537128 (3012996307.898151) with: {'n_neighbors': 5}\n",
      "-20253140592.623489 (3179496427.652982) with: {'n_neighbors': 6}\n",
      "-20485773136.286842 (3273163576.120268) with: {'n_neighbors': 7}\n",
      "-20748876042.774094 (3335093556.500707) with: {'n_neighbors': 8}\n",
      "-21011228945.461185 (3634058106.419074) with: {'n_neighbors': 9}\n",
      "-21344807490.527287 (3789112238.679365) with: {'n_neighbors': 10}\n",
      "-21605115387.415440 (3991094846.374009) with: {'n_neighbors': 11}\n",
      "-21854734217.992081 (4180889027.930234) with: {'n_neighbors': 12}\n",
      "-22064038174.359947 (4444365753.555836) with: {'n_neighbors': 13}\n",
      "-22316138289.104610 (4518654559.090142) with: {'n_neighbors': 14}\n",
      "-22617822818.070522 (4689354255.607608) with: {'n_neighbors': 15}\n",
      "-22927716189.375042 (4829302769.206944) with: {'n_neighbors': 16}\n",
      "-23290000561.605339 (5012446485.839146) with: {'n_neighbors': 17}\n",
      "-23422647664.034248 (5015344457.211226) with: {'n_neighbors': 18}\n",
      "-23591133023.534157 (5102494477.717596) with: {'n_neighbors': 19}\n",
      "-23791689680.941456 (5195706029.560821) with: {'n_neighbors': 20}\n",
      "-23938433270.475750 (5298774706.784528) with: {'n_neighbors': 21}\n",
      "-24064314378.437050 (5258414948.592821) with: {'n_neighbors': 22}\n",
      "-24297269005.198128 (5226058012.289306) with: {'n_neighbors': 23}\n",
      "-24491656733.646694 (5388657992.850905) with: {'n_neighbors': 24}\n",
      "-24711192904.246384 (5427842928.205189) with: {'n_neighbors': 25}\n",
      "-25009404553.849861 (5537568298.470718) with: {'n_neighbors': 26}\n",
      "-25170954691.955105 (5606987204.208982) with: {'n_neighbors': 27}\n",
      "-25336340126.697426 (5729851769.633660) with: {'n_neighbors': 28}\n",
      "-25480094306.853600 (5821468813.718271) with: {'n_neighbors': 29}\n"
     ]
    }
   ],
   "source": [
    "means = grid_result.cv_results_['mean_test_score']\n",
    "stds = grid_result.cv_results_['std_test_score']\n",
    "params = grid_result.cv_results_['params']\n",
    "for mean, stdev, param in zip(means, stds, params):\n",
    "    print('%f (%f) with: %r' % (mean, stdev, param))"
   ]
  },
  {
   "cell_type": "code",
   "execution_count": 24,
   "id": "3ac5e292",
   "metadata": {},
   "outputs": [
    {
     "data": {
      "text/plain": [
       "23557138139.812283"
      ]
     },
     "execution_count": 24,
     "metadata": {},
     "output_type": "execute_result"
    }
   ],
   "source": [
    "knn_6 = KNeighborsRegressor(n_neighbors=6)\n",
    "knn_6.fit(X_train_forward_selected, y_train_forward_selected)\n",
    "pred_6 = knn_6.predict(X_test_forward_selected)\n",
    "mse_6 = mean_squared_error(y_test_forward_selected, pred_6)\n",
    "mse_6"
   ]
  },
  {
   "cell_type": "code",
   "execution_count": 25,
   "id": "5e14d95a",
   "metadata": {},
   "outputs": [
    {
     "data": {
      "text/plain": [
       "Text(0.5, 1.0, 'KNN')"
      ]
     },
     "execution_count": 25,
     "metadata": {},
     "output_type": "execute_result"
    },
    {
     "data": {
      "image/png": "[encoded data removed]",
      "text/plain": [
       "<Figure size 432x288 with 1 Axes>"
      ]
     },
     "metadata": {
      "needs_background": "light"
     },
     "output_type": "display_data"
    }
   ],
   "source": [
    "plt.plot(k_values, abs(means))\n",
    "plt.xlabel('Number of k')\n",
    "plt.ylabel('Estimated MSE')\n",
    "plt.title('KNN')"
   ]
  },
  {
   "cell_type": "code",
   "execution_count": 26,
   "id": "8ee4e44e",
   "metadata": {},
   "outputs": [
    {
     "data": {
      "image/png": "[encoded data removed]",
      "text/plain": [
       "<Figure size 432x288 with 1 Axes>"
      ]
     },
     "metadata": {
      "needs_background": "light"
     },
     "output_type": "display_data"
    }
   ],
   "source": [
    "mses = [mse_all, mse_forward_selected, mse_6]\n",
    "x_labels = ['All Features', 'Selected Features', 'Selected Features with 6 Neighbors']\n",
    "x_ticks = np.arange(len(x_labels))\n",
    "plt.plot(x_ticks, mses)\n",
    "plt.xticks(x_ticks, x_labels)\n",
    "plt.ylabel('MSE')\n",
    "plt.show()"
   ]
  },
  {
   "cell_type": "code",
   "execution_count": null,
   "id": "945d500b",
   "metadata": {},
   "outputs": [],
   "source": []
  }
 ],
 "metadata": {
  "kernelspec": {
   "display_name": "Python 3 (ipykernel)",
   "language": "python",
   "name": "python3"
  },
  "language_info": {
   "codemirror_mode": {
    "name": "ipython",
    "version": 3
   },
   "file_extension": ".py",
   "mimetype": "text/x-python",
   "name": "python",
   "nbconvert_exporter": "python",
   "pygments_lexer": "ipython3",
   "version": "3.9.12"
  }
 },
 "nbformat": 4,
 "nbformat_minor": 5
}
