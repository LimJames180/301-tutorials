{
 "cells": [
  {
   "cell_type": "code",
   "execution_count": 1,
   "metadata": {},
   "outputs": [],
   "source": [
    "import numpy as np"
   ]
  },
  {
   "cell_type": "code",
   "execution_count": 2,
   "metadata": {},
   "outputs": [],
   "source": [
    "from numpy import arange"
   ]
  },
  {
   "cell_type": "code",
   "execution_count": 3,
   "metadata": {},
   "outputs": [],
   "source": [
    "import pandas as pd"
   ]
  },
  {
   "cell_type": "code",
   "execution_count": 4,
   "metadata": {},
   "outputs": [],
   "source": [
    "from pandas import read_table"
   ]
  },
  {
   "cell_type": "code",
   "execution_count": 5,
   "metadata": {},
   "outputs": [],
   "source": [
    "from pandas import set_option"
   ]
  },
  {
   "cell_type": "code",
   "execution_count": 6,
   "metadata": {},
   "outputs": [],
   "source": [
    "from pandas.plotting import scatter_matrix"
   ]
  },
  {
   "cell_type": "code",
   "execution_count": 7,
   "metadata": {},
   "outputs": [],
   "source": [
    "import matplotlib.pyplot as plt"
   ]
  },
  {
   "cell_type": "code",
   "execution_count": 8,
   "metadata": {},
   "outputs": [],
   "source": [
    "import seaborn as sns"
   ]
  },
  {
   "cell_type": "code",
   "execution_count": 9,
   "metadata": {},
   "outputs": [],
   "source": [
    "%matplotlib inline"
   ]
  },
  {
   "cell_type": "code",
   "execution_count": 10,
   "metadata": {},
   "outputs": [],
   "source": [
    "from sklearn.preprocessing import StandardScaler"
   ]
  },
  {
   "cell_type": "code",
   "execution_count": 11,
   "metadata": {},
   "outputs": [],
   "source": [
    "from sklearn.model_selection import train_test_split"
   ]
  },
  {
   "cell_type": "code",
   "execution_count": 12,
   "metadata": {},
   "outputs": [],
   "source": [
    "from sklearn.model_selection import KFold"
   ]
  },
  {
   "cell_type": "code",
   "execution_count": 13,
   "metadata": {},
   "outputs": [],
   "source": [
    "from sklearn.model_selection import cross_val_score"
   ]
  },
  {
   "cell_type": "code",
   "execution_count": 14,
   "metadata": {},
   "outputs": [],
   "source": [
    "from sklearn.model_selection import GridSearchCV"
   ]
  },
  {
   "cell_type": "code",
   "execution_count": 15,
   "metadata": {},
   "outputs": [],
   "source": [
    "from sklearn.neighbors import KNeighborsRegressor"
   ]
  },
  {
   "cell_type": "code",
   "execution_count": 16,
   "metadata": {},
   "outputs": [],
   "source": [
    "from sklearn.metrics import mean_squared_error"
   ]
  },
  {
   "cell_type": "code",
   "execution_count": 17,
   "metadata": {},
   "outputs": [],
   "source": [
    "filename = 'kc_house_data.csv'"
   ]
  },
  {
   "cell_type": "code",
   "execution_count": 18,
   "metadata": {},
   "outputs": [],
   "source": [
    "dataset = pd.read_csv(filename)"
   ]
  },
  {
   "cell_type": "code",
   "execution_count": 19,
   "metadata": {},
   "outputs": [
    {
     "name": "stdout",
     "output_type": "stream",
     "text": [
      "<class 'pandas.core.frame.DataFrame'>\n",
      "RangeIndex: 21613 entries, 0 to 21612\n",
      "Data columns (total 21 columns):\n",
      " #   Column         Non-Null Count  Dtype  \n",
      "---  ------         --------------  -----  \n",
      " 0   id             21613 non-null  int64  \n",
      " 1   date           21613 non-null  object \n",
      " 2   price          21613 non-null  float64\n",
      " 3   bedrooms       21613 non-null  int64  \n",
      " 4   bathrooms      21613 non-null  float64\n",
      " 5   sqft_living    21613 non-null  int64  \n",
      " 6   sqft_lot       21613 non-null  int64  \n",
      " 7   floors         21613 non-null  float64\n",
      " 8   waterfront     21613 non-null  int64  \n",
      " 9   view           21613 non-null  int64  \n",
      " 10  condition      21613 non-null  int64  \n",
      " 11  grade          21613 non-null  int64  \n",
      " 12  sqft_above     21613 non-null  int64  \n",
      " 13  sqft_basement  21613 non-null  int64  \n",
      " 14  yr_built       21613 non-null  int64  \n",
      " 15  yr_renovated   21613 non-null  int64  \n",
      " 16  zipcode        21613 non-null  int64  \n",
      " 17  lat            21613 non-null  float64\n",
      " 18  long           21613 non-null  float64\n",
      " 19  sqft_living15  21613 non-null  int64  \n",
      " 20  sqft_lot15     21613 non-null  int64  \n",
      "dtypes: float64(5), int64(15), object(1)\n",
      "memory usage: 3.5+ MB\n"
     ]
    }
   ],
   "source": [
    "dataset.info()"
   ]
  },
  {
   "cell_type": "code",
   "execution_count": 20,
   "metadata": {},
   "outputs": [
    {
     "data": {
      "text/html": [
       "<div>\n",
       "<style scoped>\n",
       "    .dataframe tbody tr th:only-of-type {\n",
       "        vertical-align: middle;\n",
       "    }\n",
       "\n",
       "    .dataframe tbody tr th {\n",
       "        vertical-align: top;\n",
       "    }\n",
       "\n",
       "    .dataframe thead th {\n",
       "        text-align: right;\n",
       "    }\n",
       "</style>\n",
       "<table border=\"1\" class=\"dataframe\">\n",
       "  <thead>\n",
       "    <tr style=\"text-align: right;\">\n",
       "      <th></th>\n",
       "      <th>id</th>\n",
       "      <th>date</th>\n",
       "      <th>price</th>\n",
       "      <th>bedrooms</th>\n",
       "      <th>bathrooms</th>\n",
       "      <th>sqft_living</th>\n",
       "      <th>sqft_lot</th>\n",
       "      <th>floors</th>\n",
       "      <th>waterfront</th>\n",
       "      <th>view</th>\n",
       "      <th>...</th>\n",
       "      <th>grade</th>\n",
       "      <th>sqft_above</th>\n",
       "      <th>sqft_basement</th>\n",
       "      <th>yr_built</th>\n",
       "      <th>yr_renovated</th>\n",
       "      <th>zipcode</th>\n",
       "      <th>lat</th>\n",
       "      <th>long</th>\n",
       "      <th>sqft_living15</th>\n",
       "      <th>sqft_lot15</th>\n",
       "    </tr>\n",
       "  </thead>\n",
       "  <tbody>\n",
       "    <tr>\n",
       "      <th>0</th>\n",
       "      <td>7129300520</td>\n",
       "      <td>20141013T000000</td>\n",
       "      <td>221900.0</td>\n",
       "      <td>3</td>\n",
       "      <td>1.00</td>\n",
       "      <td>1180</td>\n",
       "      <td>5650</td>\n",
       "      <td>1.0</td>\n",
       "      <td>0</td>\n",
       "      <td>0</td>\n",
       "      <td>...</td>\n",
       "      <td>7</td>\n",
       "      <td>1180</td>\n",
       "      <td>0</td>\n",
       "      <td>1955</td>\n",
       "      <td>0</td>\n",
       "      <td>98178</td>\n",
       "      <td>47.5112</td>\n",
       "      <td>-122.257</td>\n",
       "      <td>1340</td>\n",
       "      <td>5650</td>\n",
       "    </tr>\n",
       "    <tr>\n",
       "      <th>1</th>\n",
       "      <td>6414100192</td>\n",
       "      <td>20141209T000000</td>\n",
       "      <td>538000.0</td>\n",
       "      <td>3</td>\n",
       "      <td>2.25</td>\n",
       "      <td>2570</td>\n",
       "      <td>7242</td>\n",
       "      <td>2.0</td>\n",
       "      <td>0</td>\n",
       "      <td>0</td>\n",
       "      <td>...</td>\n",
       "      <td>7</td>\n",
       "      <td>2170</td>\n",
       "      <td>400</td>\n",
       "      <td>1951</td>\n",
       "      <td>1991</td>\n",
       "      <td>98125</td>\n",
       "      <td>47.7210</td>\n",
       "      <td>-122.319</td>\n",
       "      <td>1690</td>\n",
       "      <td>7639</td>\n",
       "    </tr>\n",
       "    <tr>\n",
       "      <th>2</th>\n",
       "      <td>5631500400</td>\n",
       "      <td>20150225T000000</td>\n",
       "      <td>180000.0</td>\n",
       "      <td>2</td>\n",
       "      <td>1.00</td>\n",
       "      <td>770</td>\n",
       "      <td>10000</td>\n",
       "      <td>1.0</td>\n",
       "      <td>0</td>\n",
       "      <td>0</td>\n",
       "      <td>...</td>\n",
       "      <td>6</td>\n",
       "      <td>770</td>\n",
       "      <td>0</td>\n",
       "      <td>1933</td>\n",
       "      <td>0</td>\n",
       "      <td>98028</td>\n",
       "      <td>47.7379</td>\n",
       "      <td>-122.233</td>\n",
       "      <td>2720</td>\n",
       "      <td>8062</td>\n",
       "    </tr>\n",
       "    <tr>\n",
       "      <th>3</th>\n",
       "      <td>2487200875</td>\n",
       "      <td>20141209T000000</td>\n",
       "      <td>604000.0</td>\n",
       "      <td>4</td>\n",
       "      <td>3.00</td>\n",
       "      <td>1960</td>\n",
       "      <td>5000</td>\n",
       "      <td>1.0</td>\n",
       "      <td>0</td>\n",
       "      <td>0</td>\n",
       "      <td>...</td>\n",
       "      <td>7</td>\n",
       "      <td>1050</td>\n",
       "      <td>910</td>\n",
       "      <td>1965</td>\n",
       "      <td>0</td>\n",
       "      <td>98136</td>\n",
       "      <td>47.5208</td>\n",
       "      <td>-122.393</td>\n",
       "      <td>1360</td>\n",
       "      <td>5000</td>\n",
       "    </tr>\n",
       "    <tr>\n",
       "      <th>4</th>\n",
       "      <td>1954400510</td>\n",
       "      <td>20150218T000000</td>\n",
       "      <td>510000.0</td>\n",
       "      <td>3</td>\n",
       "      <td>2.00</td>\n",
       "      <td>1680</td>\n",
       "      <td>8080</td>\n",
       "      <td>1.0</td>\n",
       "      <td>0</td>\n",
       "      <td>0</td>\n",
       "      <td>...</td>\n",
       "      <td>8</td>\n",
       "      <td>1680</td>\n",
       "      <td>0</td>\n",
       "      <td>1987</td>\n",
       "      <td>0</td>\n",
       "      <td>98074</td>\n",
       "      <td>47.6168</td>\n",
       "      <td>-122.045</td>\n",
       "      <td>1800</td>\n",
       "      <td>7503</td>\n",
       "    </tr>\n",
       "    <tr>\n",
       "      <th>...</th>\n",
       "      <td>...</td>\n",
       "      <td>...</td>\n",
       "      <td>...</td>\n",
       "      <td>...</td>\n",
       "      <td>...</td>\n",
       "      <td>...</td>\n",
       "      <td>...</td>\n",
       "      <td>...</td>\n",
       "      <td>...</td>\n",
       "      <td>...</td>\n",
       "      <td>...</td>\n",
       "      <td>...</td>\n",
       "      <td>...</td>\n",
       "      <td>...</td>\n",
       "      <td>...</td>\n",
       "      <td>...</td>\n",
       "      <td>...</td>\n",
       "      <td>...</td>\n",
       "      <td>...</td>\n",
       "      <td>...</td>\n",
       "      <td>...</td>\n",
       "    </tr>\n",
       "    <tr>\n",
       "      <th>21608</th>\n",
       "      <td>263000018</td>\n",
       "      <td>20140521T000000</td>\n",
       "      <td>360000.0</td>\n",
       "      <td>3</td>\n",
       "      <td>2.50</td>\n",
       "      <td>1530</td>\n",
       "      <td>1131</td>\n",
       "      <td>3.0</td>\n",
       "      <td>0</td>\n",
       "      <td>0</td>\n",
       "      <td>...</td>\n",
       "      <td>8</td>\n",
       "      <td>1530</td>\n",
       "      <td>0</td>\n",
       "      <td>2009</td>\n",
       "      <td>0</td>\n",
       "      <td>98103</td>\n",
       "      <td>47.6993</td>\n",
       "      <td>-122.346</td>\n",
       "      <td>1530</td>\n",
       "      <td>1509</td>\n",
       "    </tr>\n",
       "    <tr>\n",
       "      <th>21609</th>\n",
       "      <td>6600060120</td>\n",
       "      <td>20150223T000000</td>\n",
       "      <td>400000.0</td>\n",
       "      <td>4</td>\n",
       "      <td>2.50</td>\n",
       "      <td>2310</td>\n",
       "      <td>5813</td>\n",
       "      <td>2.0</td>\n",
       "      <td>0</td>\n",
       "      <td>0</td>\n",
       "      <td>...</td>\n",
       "      <td>8</td>\n",
       "      <td>2310</td>\n",
       "      <td>0</td>\n",
       "      <td>2014</td>\n",
       "      <td>0</td>\n",
       "      <td>98146</td>\n",
       "      <td>47.5107</td>\n",
       "      <td>-122.362</td>\n",
       "      <td>1830</td>\n",
       "      <td>7200</td>\n",
       "    </tr>\n",
       "    <tr>\n",
       "      <th>21610</th>\n",
       "      <td>1523300141</td>\n",
       "      <td>20140623T000000</td>\n",
       "      <td>402101.0</td>\n",
       "      <td>2</td>\n",
       "      <td>0.75</td>\n",
       "      <td>1020</td>\n",
       "      <td>1350</td>\n",
       "      <td>2.0</td>\n",
       "      <td>0</td>\n",
       "      <td>0</td>\n",
       "      <td>...</td>\n",
       "      <td>7</td>\n",
       "      <td>1020</td>\n",
       "      <td>0</td>\n",
       "      <td>2009</td>\n",
       "      <td>0</td>\n",
       "      <td>98144</td>\n",
       "      <td>47.5944</td>\n",
       "      <td>-122.299</td>\n",
       "      <td>1020</td>\n",
       "      <td>2007</td>\n",
       "    </tr>\n",
       "    <tr>\n",
       "      <th>21611</th>\n",
       "      <td>291310100</td>\n",
       "      <td>20150116T000000</td>\n",
       "      <td>400000.0</td>\n",
       "      <td>3</td>\n",
       "      <td>2.50</td>\n",
       "      <td>1600</td>\n",
       "      <td>2388</td>\n",
       "      <td>2.0</td>\n",
       "      <td>0</td>\n",
       "      <td>0</td>\n",
       "      <td>...</td>\n",
       "      <td>8</td>\n",
       "      <td>1600</td>\n",
       "      <td>0</td>\n",
       "      <td>2004</td>\n",
       "      <td>0</td>\n",
       "      <td>98027</td>\n",
       "      <td>47.5345</td>\n",
       "      <td>-122.069</td>\n",
       "      <td>1410</td>\n",
       "      <td>1287</td>\n",
       "    </tr>\n",
       "    <tr>\n",
       "      <th>21612</th>\n",
       "      <td>1523300157</td>\n",
       "      <td>20141015T000000</td>\n",
       "      <td>325000.0</td>\n",
       "      <td>2</td>\n",
       "      <td>0.75</td>\n",
       "      <td>1020</td>\n",
       "      <td>1076</td>\n",
       "      <td>2.0</td>\n",
       "      <td>0</td>\n",
       "      <td>0</td>\n",
       "      <td>...</td>\n",
       "      <td>7</td>\n",
       "      <td>1020</td>\n",
       "      <td>0</td>\n",
       "      <td>2008</td>\n",
       "      <td>0</td>\n",
       "      <td>98144</td>\n",
       "      <td>47.5941</td>\n",
       "      <td>-122.299</td>\n",
       "      <td>1020</td>\n",
       "      <td>1357</td>\n",
       "    </tr>\n",
       "  </tbody>\n",
       "</table>\n",
       "<p>21613 rows × 21 columns</p>\n",
       "</div>"
      ],
      "text/plain": [
       "               id             date     price  bedrooms  bathrooms  \\\n",
       "0      7129300520  20141013T000000  221900.0         3       1.00   \n",
       "1      6414100192  20141209T000000  538000.0         3       2.25   \n",
       "2      5631500400  20150225T000000  180000.0         2       1.00   \n",
       "3      2487200875  20141209T000000  604000.0         4       3.00   \n",
       "4      1954400510  20150218T000000  510000.0         3       2.00   \n",
       "...           ...              ...       ...       ...        ...   \n",
       "21608   263000018  20140521T000000  360000.0         3       2.50   \n",
       "21609  6600060120  20150223T000000  400000.0         4       2.50   \n",
       "21610  1523300141  20140623T000000  402101.0         2       0.75   \n",
       "21611   291310100  20150116T000000  400000.0         3       2.50   \n",
       "21612  1523300157  20141015T000000  325000.0         2       0.75   \n",
       "\n",
       "       sqft_living  sqft_lot  floors  waterfront  view  ...  grade  \\\n",
       "0             1180      5650     1.0           0     0  ...      7   \n",
       "1             2570      7242     2.0           0     0  ...      7   \n",
       "2              770     10000     1.0           0     0  ...      6   \n",
       "3             1960      5000     1.0           0     0  ...      7   \n",
       "4             1680      8080     1.0           0     0  ...      8   \n",
       "...            ...       ...     ...         ...   ...  ...    ...   \n",
       "21608         1530      1131     3.0           0     0  ...      8   \n",
       "21609         2310      5813     2.0           0     0  ...      8   \n",
       "21610         1020      1350     2.0           0     0  ...      7   \n",
       "21611         1600      2388     2.0           0     0  ...      8   \n",
       "21612         1020      1076     2.0           0     0  ...      7   \n",
       "\n",
       "       sqft_above  sqft_basement  yr_built  yr_renovated  zipcode      lat  \\\n",
       "0            1180              0      1955             0    98178  47.5112   \n",
       "1            2170            400      1951          1991    98125  47.7210   \n",
       "2             770              0      1933             0    98028  47.7379   \n",
       "3            1050            910      1965             0    98136  47.5208   \n",
       "4            1680              0      1987             0    98074  47.6168   \n",
       "...           ...            ...       ...           ...      ...      ...   \n",
       "21608        1530              0      2009             0    98103  47.6993   \n",
       "21609        2310              0      2014             0    98146  47.5107   \n",
       "21610        1020              0      2009             0    98144  47.5944   \n",
       "21611        1600              0      2004             0    98027  47.5345   \n",
       "21612        1020              0      2008             0    98144  47.5941   \n",
       "\n",
       "          long  sqft_living15  sqft_lot15  \n",
       "0     -122.257           1340        5650  \n",
       "1     -122.319           1690        7639  \n",
       "2     -122.233           2720        8062  \n",
       "3     -122.393           1360        5000  \n",
       "4     -122.045           1800        7503  \n",
       "...        ...            ...         ...  \n",
       "21608 -122.346           1530        1509  \n",
       "21609 -122.362           1830        7200  \n",
       "21610 -122.299           1020        2007  \n",
       "21611 -122.069           1410        1287  \n",
       "21612 -122.299           1020        1357  \n",
       "\n",
       "[21613 rows x 21 columns]"
      ]
     },
     "execution_count": 20,
     "metadata": {},
     "output_type": "execute_result"
    }
   ],
   "source": [
    "dataset"
   ]
  },
  {
   "cell_type": "code",
   "execution_count": 21,
   "metadata": {},
   "outputs": [],
   "source": [
    "dataset.drop(columns = ['id','date','lat','long','zipcode'], inplace = True)"
   ]
  },
  {
   "cell_type": "code",
   "execution_count": 22,
   "metadata": {},
   "outputs": [
    {
     "data": {
      "text/plain": [
       "(21613, 16)"
      ]
     },
     "execution_count": 22,
     "metadata": {},
     "output_type": "execute_result"
    }
   ],
   "source": [
    "dataset.shape"
   ]
  },
  {
   "cell_type": "code",
   "execution_count": 23,
   "metadata": {},
   "outputs": [
    {
     "data": {
      "text/plain": [
       "price            21613\n",
       "bedrooms         21613\n",
       "bathrooms        21613\n",
       "sqft_living      21613\n",
       "sqft_lot         21613\n",
       "floors           21613\n",
       "waterfront       21613\n",
       "view             21613\n",
       "condition        21613\n",
       "grade            21613\n",
       "sqft_above       21613\n",
       "sqft_basement    21613\n",
       "yr_built         21613\n",
       "yr_renovated     21613\n",
       "sqft_living15    21613\n",
       "sqft_lot15       21613\n",
       "dtype: int64"
      ]
     },
     "execution_count": 23,
     "metadata": {},
     "output_type": "execute_result"
    }
   ],
   "source": [
    "dataset.count()"
   ]
  },
  {
   "cell_type": "code",
   "execution_count": 24,
   "metadata": {},
   "outputs": [
    {
     "data": {
      "text/plain": [
       "price            0\n",
       "bedrooms         0\n",
       "bathrooms        0\n",
       "sqft_living      0\n",
       "sqft_lot         0\n",
       "floors           0\n",
       "waterfront       0\n",
       "view             0\n",
       "condition        0\n",
       "grade            0\n",
       "sqft_above       0\n",
       "sqft_basement    0\n",
       "yr_built         0\n",
       "yr_renovated     0\n",
       "sqft_living15    0\n",
       "sqft_lot15       0\n",
       "dtype: int64"
      ]
     },
     "execution_count": 24,
     "metadata": {},
     "output_type": "execute_result"
    }
   ],
   "source": [
    "dataset.isnull().sum()"
   ]
  },
  {
   "cell_type": "code",
   "execution_count": 25,
   "metadata": {},
   "outputs": [],
   "source": [
    "dataset = dataset.dropna()"
   ]
  },
  {
   "cell_type": "code",
   "execution_count": 26,
   "metadata": {},
   "outputs": [
    {
     "data": {
      "text/plain": [
       "price            float64\n",
       "bedrooms           int64\n",
       "bathrooms        float64\n",
       "sqft_living        int64\n",
       "sqft_lot           int64\n",
       "floors           float64\n",
       "waterfront         int64\n",
       "view               int64\n",
       "condition          int64\n",
       "grade              int64\n",
       "sqft_above         int64\n",
       "sqft_basement      int64\n",
       "yr_built           int64\n",
       "yr_renovated       int64\n",
       "sqft_living15      int64\n",
       "sqft_lot15         int64\n",
       "dtype: object"
      ]
     },
     "execution_count": 26,
     "metadata": {},
     "output_type": "execute_result"
    }
   ],
   "source": [
    "dataset.dtypes"
   ]
  },
  {
   "cell_type": "code",
   "execution_count": 27,
   "metadata": {},
   "outputs": [
    {
     "data": {
      "text/html": [
       "<div>\n",
       "<style scoped>\n",
       "    .dataframe tbody tr th:only-of-type {\n",
       "        vertical-align: middle;\n",
       "    }\n",
       "\n",
       "    .dataframe tbody tr th {\n",
       "        vertical-align: top;\n",
       "    }\n",
       "\n",
       "    .dataframe thead th {\n",
       "        text-align: right;\n",
       "    }\n",
       "</style>\n",
       "<table border=\"1\" class=\"dataframe\">\n",
       "  <thead>\n",
       "    <tr style=\"text-align: right;\">\n",
       "      <th></th>\n",
       "      <th>price</th>\n",
       "      <th>bedrooms</th>\n",
       "      <th>bathrooms</th>\n",
       "      <th>sqft_living</th>\n",
       "      <th>sqft_lot</th>\n",
       "      <th>floors</th>\n",
       "      <th>waterfront</th>\n",
       "      <th>view</th>\n",
       "      <th>condition</th>\n",
       "      <th>grade</th>\n",
       "      <th>sqft_above</th>\n",
       "      <th>sqft_basement</th>\n",
       "      <th>yr_built</th>\n",
       "      <th>yr_renovated</th>\n",
       "      <th>sqft_living15</th>\n",
       "      <th>sqft_lot15</th>\n",
       "    </tr>\n",
       "  </thead>\n",
       "  <tbody>\n",
       "    <tr>\n",
       "      <th>0</th>\n",
       "      <td>221900.0</td>\n",
       "      <td>3</td>\n",
       "      <td>1.00</td>\n",
       "      <td>1180</td>\n",
       "      <td>5650</td>\n",
       "      <td>1.0</td>\n",
       "      <td>0</td>\n",
       "      <td>0</td>\n",
       "      <td>3</td>\n",
       "      <td>7</td>\n",
       "      <td>1180</td>\n",
       "      <td>0</td>\n",
       "      <td>1955</td>\n",
       "      <td>0</td>\n",
       "      <td>1340</td>\n",
       "      <td>5650</td>\n",
       "    </tr>\n",
       "    <tr>\n",
       "      <th>1</th>\n",
       "      <td>538000.0</td>\n",
       "      <td>3</td>\n",
       "      <td>2.25</td>\n",
       "      <td>2570</td>\n",
       "      <td>7242</td>\n",
       "      <td>2.0</td>\n",
       "      <td>0</td>\n",
       "      <td>0</td>\n",
       "      <td>3</td>\n",
       "      <td>7</td>\n",
       "      <td>2170</td>\n",
       "      <td>400</td>\n",
       "      <td>1951</td>\n",
       "      <td>1991</td>\n",
       "      <td>1690</td>\n",
       "      <td>7639</td>\n",
       "    </tr>\n",
       "    <tr>\n",
       "      <th>2</th>\n",
       "      <td>180000.0</td>\n",
       "      <td>2</td>\n",
       "      <td>1.00</td>\n",
       "      <td>770</td>\n",
       "      <td>10000</td>\n",
       "      <td>1.0</td>\n",
       "      <td>0</td>\n",
       "      <td>0</td>\n",
       "      <td>3</td>\n",
       "      <td>6</td>\n",
       "      <td>770</td>\n",
       "      <td>0</td>\n",
       "      <td>1933</td>\n",
       "      <td>0</td>\n",
       "      <td>2720</td>\n",
       "      <td>8062</td>\n",
       "    </tr>\n",
       "    <tr>\n",
       "      <th>3</th>\n",
       "      <td>604000.0</td>\n",
       "      <td>4</td>\n",
       "      <td>3.00</td>\n",
       "      <td>1960</td>\n",
       "      <td>5000</td>\n",
       "      <td>1.0</td>\n",
       "      <td>0</td>\n",
       "      <td>0</td>\n",
       "      <td>5</td>\n",
       "      <td>7</td>\n",
       "      <td>1050</td>\n",
       "      <td>910</td>\n",
       "      <td>1965</td>\n",
       "      <td>0</td>\n",
       "      <td>1360</td>\n",
       "      <td>5000</td>\n",
       "    </tr>\n",
       "    <tr>\n",
       "      <th>4</th>\n",
       "      <td>510000.0</td>\n",
       "      <td>3</td>\n",
       "      <td>2.00</td>\n",
       "      <td>1680</td>\n",
       "      <td>8080</td>\n",
       "      <td>1.0</td>\n",
       "      <td>0</td>\n",
       "      <td>0</td>\n",
       "      <td>3</td>\n",
       "      <td>8</td>\n",
       "      <td>1680</td>\n",
       "      <td>0</td>\n",
       "      <td>1987</td>\n",
       "      <td>0</td>\n",
       "      <td>1800</td>\n",
       "      <td>7503</td>\n",
       "    </tr>\n",
       "    <tr>\n",
       "      <th>5</th>\n",
       "      <td>1225000.0</td>\n",
       "      <td>4</td>\n",
       "      <td>4.50</td>\n",
       "      <td>5420</td>\n",
       "      <td>101930</td>\n",
       "      <td>1.0</td>\n",
       "      <td>0</td>\n",
       "      <td>0</td>\n",
       "      <td>3</td>\n",
       "      <td>11</td>\n",
       "      <td>3890</td>\n",
       "      <td>1530</td>\n",
       "      <td>2001</td>\n",
       "      <td>0</td>\n",
       "      <td>4760</td>\n",
       "      <td>101930</td>\n",
       "    </tr>\n",
       "    <tr>\n",
       "      <th>6</th>\n",
       "      <td>257500.0</td>\n",
       "      <td>3</td>\n",
       "      <td>2.25</td>\n",
       "      <td>1715</td>\n",
       "      <td>6819</td>\n",
       "      <td>2.0</td>\n",
       "      <td>0</td>\n",
       "      <td>0</td>\n",
       "      <td>3</td>\n",
       "      <td>7</td>\n",
       "      <td>1715</td>\n",
       "      <td>0</td>\n",
       "      <td>1995</td>\n",
       "      <td>0</td>\n",
       "      <td>2238</td>\n",
       "      <td>6819</td>\n",
       "    </tr>\n",
       "    <tr>\n",
       "      <th>7</th>\n",
       "      <td>291850.0</td>\n",
       "      <td>3</td>\n",
       "      <td>1.50</td>\n",
       "      <td>1060</td>\n",
       "      <td>9711</td>\n",
       "      <td>1.0</td>\n",
       "      <td>0</td>\n",
       "      <td>0</td>\n",
       "      <td>3</td>\n",
       "      <td>7</td>\n",
       "      <td>1060</td>\n",
       "      <td>0</td>\n",
       "      <td>1963</td>\n",
       "      <td>0</td>\n",
       "      <td>1650</td>\n",
       "      <td>9711</td>\n",
       "    </tr>\n",
       "    <tr>\n",
       "      <th>8</th>\n",
       "      <td>229500.0</td>\n",
       "      <td>3</td>\n",
       "      <td>1.00</td>\n",
       "      <td>1780</td>\n",
       "      <td>7470</td>\n",
       "      <td>1.0</td>\n",
       "      <td>0</td>\n",
       "      <td>0</td>\n",
       "      <td>3</td>\n",
       "      <td>7</td>\n",
       "      <td>1050</td>\n",
       "      <td>730</td>\n",
       "      <td>1960</td>\n",
       "      <td>0</td>\n",
       "      <td>1780</td>\n",
       "      <td>8113</td>\n",
       "    </tr>\n",
       "    <tr>\n",
       "      <th>9</th>\n",
       "      <td>323000.0</td>\n",
       "      <td>3</td>\n",
       "      <td>2.50</td>\n",
       "      <td>1890</td>\n",
       "      <td>6560</td>\n",
       "      <td>2.0</td>\n",
       "      <td>0</td>\n",
       "      <td>0</td>\n",
       "      <td>3</td>\n",
       "      <td>7</td>\n",
       "      <td>1890</td>\n",
       "      <td>0</td>\n",
       "      <td>2003</td>\n",
       "      <td>0</td>\n",
       "      <td>2390</td>\n",
       "      <td>7570</td>\n",
       "    </tr>\n",
       "  </tbody>\n",
       "</table>\n",
       "</div>"
      ],
      "text/plain": [
       "       price  bedrooms  bathrooms  sqft_living  sqft_lot  floors  waterfront  \\\n",
       "0   221900.0         3       1.00         1180      5650     1.0           0   \n",
       "1   538000.0         3       2.25         2570      7242     2.0           0   \n",
       "2   180000.0         2       1.00          770     10000     1.0           0   \n",
       "3   604000.0         4       3.00         1960      5000     1.0           0   \n",
       "4   510000.0         3       2.00         1680      8080     1.0           0   \n",
       "5  1225000.0         4       4.50         5420    101930     1.0           0   \n",
       "6   257500.0         3       2.25         1715      6819     2.0           0   \n",
       "7   291850.0         3       1.50         1060      9711     1.0           0   \n",
       "8   229500.0         3       1.00         1780      7470     1.0           0   \n",
       "9   323000.0         3       2.50         1890      6560     2.0           0   \n",
       "\n",
       "   view  condition  grade  sqft_above  sqft_basement  yr_built  yr_renovated  \\\n",
       "0     0          3      7        1180              0      1955             0   \n",
       "1     0          3      7        2170            400      1951          1991   \n",
       "2     0          3      6         770              0      1933             0   \n",
       "3     0          5      7        1050            910      1965             0   \n",
       "4     0          3      8        1680              0      1987             0   \n",
       "5     0          3     11        3890           1530      2001             0   \n",
       "6     0          3      7        1715              0      1995             0   \n",
       "7     0          3      7        1060              0      1963             0   \n",
       "8     0          3      7        1050            730      1960             0   \n",
       "9     0          3      7        1890              0      2003             0   \n",
       "\n",
       "   sqft_living15  sqft_lot15  \n",
       "0           1340        5650  \n",
       "1           1690        7639  \n",
       "2           2720        8062  \n",
       "3           1360        5000  \n",
       "4           1800        7503  \n",
       "5           4760      101930  \n",
       "6           2238        6819  \n",
       "7           1650        9711  \n",
       "8           1780        8113  \n",
       "9           2390        7570  "
      ]
     },
     "execution_count": 27,
     "metadata": {},
     "output_type": "execute_result"
    }
   ],
   "source": [
    "dataset.head(10)"
   ]
  },
  {
   "cell_type": "code",
   "execution_count": 28,
   "metadata": {},
   "outputs": [],
   "source": [
    "set_option('display.precision', 3)"
   ]
  },
  {
   "cell_type": "code",
   "execution_count": 29,
   "metadata": {},
   "outputs": [
    {
     "data": {
      "text/html": [
       "<div>\n",
       "<style scoped>\n",
       "    .dataframe tbody tr th:only-of-type {\n",
       "        vertical-align: middle;\n",
       "    }\n",
       "\n",
       "    .dataframe tbody tr th {\n",
       "        vertical-align: top;\n",
       "    }\n",
       "\n",
       "    .dataframe thead th {\n",
       "        text-align: right;\n",
       "    }\n",
       "</style>\n",
       "<table border=\"1\" class=\"dataframe\">\n",
       "  <thead>\n",
       "    <tr style=\"text-align: right;\">\n",
       "      <th></th>\n",
       "      <th>price</th>\n",
       "      <th>bedrooms</th>\n",
       "      <th>bathrooms</th>\n",
       "      <th>sqft_living</th>\n",
       "      <th>sqft_lot</th>\n",
       "      <th>floors</th>\n",
       "      <th>waterfront</th>\n",
       "      <th>view</th>\n",
       "      <th>condition</th>\n",
       "      <th>grade</th>\n",
       "      <th>sqft_above</th>\n",
       "      <th>sqft_basement</th>\n",
       "      <th>yr_built</th>\n",
       "      <th>yr_renovated</th>\n",
       "      <th>sqft_living15</th>\n",
       "      <th>sqft_lot15</th>\n",
       "    </tr>\n",
       "  </thead>\n",
       "  <tbody>\n",
       "    <tr>\n",
       "      <th>count</th>\n",
       "      <td>2.161e+04</td>\n",
       "      <td>21613.000</td>\n",
       "      <td>21613.000</td>\n",
       "      <td>21613.000</td>\n",
       "      <td>2.161e+04</td>\n",
       "      <td>21613.000</td>\n",
       "      <td>21613.000</td>\n",
       "      <td>21613.000</td>\n",
       "      <td>21613.000</td>\n",
       "      <td>21613.000</td>\n",
       "      <td>21613.000</td>\n",
       "      <td>21613.000</td>\n",
       "      <td>21613.000</td>\n",
       "      <td>21613.000</td>\n",
       "      <td>21613.000</td>\n",
       "      <td>21613.000</td>\n",
       "    </tr>\n",
       "    <tr>\n",
       "      <th>mean</th>\n",
       "      <td>5.401e+05</td>\n",
       "      <td>3.371</td>\n",
       "      <td>2.115</td>\n",
       "      <td>2079.900</td>\n",
       "      <td>1.511e+04</td>\n",
       "      <td>1.494</td>\n",
       "      <td>0.008</td>\n",
       "      <td>0.234</td>\n",
       "      <td>3.409</td>\n",
       "      <td>7.657</td>\n",
       "      <td>1788.391</td>\n",
       "      <td>291.509</td>\n",
       "      <td>1971.005</td>\n",
       "      <td>84.402</td>\n",
       "      <td>1986.552</td>\n",
       "      <td>12768.456</td>\n",
       "    </tr>\n",
       "    <tr>\n",
       "      <th>std</th>\n",
       "      <td>3.671e+05</td>\n",
       "      <td>0.930</td>\n",
       "      <td>0.770</td>\n",
       "      <td>918.441</td>\n",
       "      <td>4.142e+04</td>\n",
       "      <td>0.540</td>\n",
       "      <td>0.087</td>\n",
       "      <td>0.766</td>\n",
       "      <td>0.651</td>\n",
       "      <td>1.175</td>\n",
       "      <td>828.091</td>\n",
       "      <td>442.575</td>\n",
       "      <td>29.373</td>\n",
       "      <td>401.679</td>\n",
       "      <td>685.391</td>\n",
       "      <td>27304.180</td>\n",
       "    </tr>\n",
       "    <tr>\n",
       "      <th>min</th>\n",
       "      <td>7.500e+04</td>\n",
       "      <td>0.000</td>\n",
       "      <td>0.000</td>\n",
       "      <td>290.000</td>\n",
       "      <td>5.200e+02</td>\n",
       "      <td>1.000</td>\n",
       "      <td>0.000</td>\n",
       "      <td>0.000</td>\n",
       "      <td>1.000</td>\n",
       "      <td>1.000</td>\n",
       "      <td>290.000</td>\n",
       "      <td>0.000</td>\n",
       "      <td>1900.000</td>\n",
       "      <td>0.000</td>\n",
       "      <td>399.000</td>\n",
       "      <td>651.000</td>\n",
       "    </tr>\n",
       "    <tr>\n",
       "      <th>25%</th>\n",
       "      <td>3.220e+05</td>\n",
       "      <td>3.000</td>\n",
       "      <td>1.750</td>\n",
       "      <td>1427.000</td>\n",
       "      <td>5.040e+03</td>\n",
       "      <td>1.000</td>\n",
       "      <td>0.000</td>\n",
       "      <td>0.000</td>\n",
       "      <td>3.000</td>\n",
       "      <td>7.000</td>\n",
       "      <td>1190.000</td>\n",
       "      <td>0.000</td>\n",
       "      <td>1951.000</td>\n",
       "      <td>0.000</td>\n",
       "      <td>1490.000</td>\n",
       "      <td>5100.000</td>\n",
       "    </tr>\n",
       "    <tr>\n",
       "      <th>50%</th>\n",
       "      <td>4.500e+05</td>\n",
       "      <td>3.000</td>\n",
       "      <td>2.250</td>\n",
       "      <td>1910.000</td>\n",
       "      <td>7.618e+03</td>\n",
       "      <td>1.500</td>\n",
       "      <td>0.000</td>\n",
       "      <td>0.000</td>\n",
       "      <td>3.000</td>\n",
       "      <td>7.000</td>\n",
       "      <td>1560.000</td>\n",
       "      <td>0.000</td>\n",
       "      <td>1975.000</td>\n",
       "      <td>0.000</td>\n",
       "      <td>1840.000</td>\n",
       "      <td>7620.000</td>\n",
       "    </tr>\n",
       "    <tr>\n",
       "      <th>75%</th>\n",
       "      <td>6.450e+05</td>\n",
       "      <td>4.000</td>\n",
       "      <td>2.500</td>\n",
       "      <td>2550.000</td>\n",
       "      <td>1.069e+04</td>\n",
       "      <td>2.000</td>\n",
       "      <td>0.000</td>\n",
       "      <td>0.000</td>\n",
       "      <td>4.000</td>\n",
       "      <td>8.000</td>\n",
       "      <td>2210.000</td>\n",
       "      <td>560.000</td>\n",
       "      <td>1997.000</td>\n",
       "      <td>0.000</td>\n",
       "      <td>2360.000</td>\n",
       "      <td>10083.000</td>\n",
       "    </tr>\n",
       "    <tr>\n",
       "      <th>max</th>\n",
       "      <td>7.700e+06</td>\n",
       "      <td>33.000</td>\n",
       "      <td>8.000</td>\n",
       "      <td>13540.000</td>\n",
       "      <td>1.651e+06</td>\n",
       "      <td>3.500</td>\n",
       "      <td>1.000</td>\n",
       "      <td>4.000</td>\n",
       "      <td>5.000</td>\n",
       "      <td>13.000</td>\n",
       "      <td>9410.000</td>\n",
       "      <td>4820.000</td>\n",
       "      <td>2015.000</td>\n",
       "      <td>2015.000</td>\n",
       "      <td>6210.000</td>\n",
       "      <td>871200.000</td>\n",
       "    </tr>\n",
       "  </tbody>\n",
       "</table>\n",
       "</div>"
      ],
      "text/plain": [
       "           price   bedrooms  bathrooms  sqft_living   sqft_lot     floors  \\\n",
       "count  2.161e+04  21613.000  21613.000    21613.000  2.161e+04  21613.000   \n",
       "mean   5.401e+05      3.371      2.115     2079.900  1.511e+04      1.494   \n",
       "std    3.671e+05      0.930      0.770      918.441  4.142e+04      0.540   \n",
       "min    7.500e+04      0.000      0.000      290.000  5.200e+02      1.000   \n",
       "25%    3.220e+05      3.000      1.750     1427.000  5.040e+03      1.000   \n",
       "50%    4.500e+05      3.000      2.250     1910.000  7.618e+03      1.500   \n",
       "75%    6.450e+05      4.000      2.500     2550.000  1.069e+04      2.000   \n",
       "max    7.700e+06     33.000      8.000    13540.000  1.651e+06      3.500   \n",
       "\n",
       "       waterfront       view  condition      grade  sqft_above  sqft_basement  \\\n",
       "count   21613.000  21613.000  21613.000  21613.000   21613.000      21613.000   \n",
       "mean        0.008      0.234      3.409      7.657    1788.391        291.509   \n",
       "std         0.087      0.766      0.651      1.175     828.091        442.575   \n",
       "min         0.000      0.000      1.000      1.000     290.000          0.000   \n",
       "25%         0.000      0.000      3.000      7.000    1190.000          0.000   \n",
       "50%         0.000      0.000      3.000      7.000    1560.000          0.000   \n",
       "75%         0.000      0.000      4.000      8.000    2210.000        560.000   \n",
       "max         1.000      4.000      5.000     13.000    9410.000       4820.000   \n",
       "\n",
       "        yr_built  yr_renovated  sqft_living15  sqft_lot15  \n",
       "count  21613.000     21613.000      21613.000   21613.000  \n",
       "mean    1971.005        84.402       1986.552   12768.456  \n",
       "std       29.373       401.679        685.391   27304.180  \n",
       "min     1900.000         0.000        399.000     651.000  \n",
       "25%     1951.000         0.000       1490.000    5100.000  \n",
       "50%     1975.000         0.000       1840.000    7620.000  \n",
       "75%     1997.000         0.000       2360.000   10083.000  \n",
       "max     2015.000      2015.000       6210.000  871200.000  "
      ]
     },
     "execution_count": 29,
     "metadata": {},
     "output_type": "execute_result"
    }
   ],
   "source": [
    "dataset.describe()"
   ]
  },
  {
   "cell_type": "code",
   "execution_count": 30,
   "metadata": {},
   "outputs": [
    {
     "data": {
      "text/html": [
       "<div>\n",
       "<style scoped>\n",
       "    .dataframe tbody tr th:only-of-type {\n",
       "        vertical-align: middle;\n",
       "    }\n",
       "\n",
       "    .dataframe tbody tr th {\n",
       "        vertical-align: top;\n",
       "    }\n",
       "\n",
       "    .dataframe thead th {\n",
       "        text-align: right;\n",
       "    }\n",
       "</style>\n",
       "<table border=\"1\" class=\"dataframe\">\n",
       "  <thead>\n",
       "    <tr style=\"text-align: right;\">\n",
       "      <th></th>\n",
       "      <th>price</th>\n",
       "      <th>bedrooms</th>\n",
       "      <th>bathrooms</th>\n",
       "      <th>sqft_living</th>\n",
       "      <th>sqft_lot</th>\n",
       "      <th>floors</th>\n",
       "      <th>waterfront</th>\n",
       "      <th>view</th>\n",
       "      <th>condition</th>\n",
       "      <th>grade</th>\n",
       "      <th>sqft_above</th>\n",
       "      <th>sqft_basement</th>\n",
       "      <th>yr_built</th>\n",
       "      <th>yr_renovated</th>\n",
       "      <th>sqft_living15</th>\n",
       "      <th>sqft_lot15</th>\n",
       "    </tr>\n",
       "  </thead>\n",
       "  <tbody>\n",
       "    <tr>\n",
       "      <th>price</th>\n",
       "      <td>1.000</td>\n",
       "      <td>0.308</td>\n",
       "      <td>0.525</td>\n",
       "      <td>0.702</td>\n",
       "      <td>0.090</td>\n",
       "      <td>0.257</td>\n",
       "      <td>0.266</td>\n",
       "      <td>0.397</td>\n",
       "      <td>0.036</td>\n",
       "      <td>0.667</td>\n",
       "      <td>0.606</td>\n",
       "      <td>0.324</td>\n",
       "      <td>0.054</td>\n",
       "      <td>0.126</td>\n",
       "      <td>0.585</td>\n",
       "      <td>0.082</td>\n",
       "    </tr>\n",
       "    <tr>\n",
       "      <th>bedrooms</th>\n",
       "      <td>0.308</td>\n",
       "      <td>1.000</td>\n",
       "      <td>0.516</td>\n",
       "      <td>0.577</td>\n",
       "      <td>0.032</td>\n",
       "      <td>0.175</td>\n",
       "      <td>-0.007</td>\n",
       "      <td>0.080</td>\n",
       "      <td>0.028</td>\n",
       "      <td>0.357</td>\n",
       "      <td>0.478</td>\n",
       "      <td>0.303</td>\n",
       "      <td>0.154</td>\n",
       "      <td>0.019</td>\n",
       "      <td>0.392</td>\n",
       "      <td>0.029</td>\n",
       "    </tr>\n",
       "    <tr>\n",
       "      <th>bathrooms</th>\n",
       "      <td>0.525</td>\n",
       "      <td>0.516</td>\n",
       "      <td>1.000</td>\n",
       "      <td>0.755</td>\n",
       "      <td>0.088</td>\n",
       "      <td>0.501</td>\n",
       "      <td>0.064</td>\n",
       "      <td>0.188</td>\n",
       "      <td>-0.125</td>\n",
       "      <td>0.665</td>\n",
       "      <td>0.685</td>\n",
       "      <td>0.284</td>\n",
       "      <td>0.506</td>\n",
       "      <td>0.051</td>\n",
       "      <td>0.569</td>\n",
       "      <td>0.087</td>\n",
       "    </tr>\n",
       "    <tr>\n",
       "      <th>sqft_living</th>\n",
       "      <td>0.702</td>\n",
       "      <td>0.577</td>\n",
       "      <td>0.755</td>\n",
       "      <td>1.000</td>\n",
       "      <td>0.173</td>\n",
       "      <td>0.354</td>\n",
       "      <td>0.104</td>\n",
       "      <td>0.285</td>\n",
       "      <td>-0.059</td>\n",
       "      <td>0.763</td>\n",
       "      <td>0.877</td>\n",
       "      <td>0.435</td>\n",
       "      <td>0.318</td>\n",
       "      <td>0.055</td>\n",
       "      <td>0.756</td>\n",
       "      <td>0.183</td>\n",
       "    </tr>\n",
       "    <tr>\n",
       "      <th>sqft_lot</th>\n",
       "      <td>0.090</td>\n",
       "      <td>0.032</td>\n",
       "      <td>0.088</td>\n",
       "      <td>0.173</td>\n",
       "      <td>1.000</td>\n",
       "      <td>-0.005</td>\n",
       "      <td>0.022</td>\n",
       "      <td>0.075</td>\n",
       "      <td>-0.009</td>\n",
       "      <td>0.114</td>\n",
       "      <td>0.184</td>\n",
       "      <td>0.015</td>\n",
       "      <td>0.053</td>\n",
       "      <td>0.008</td>\n",
       "      <td>0.145</td>\n",
       "      <td>0.719</td>\n",
       "    </tr>\n",
       "    <tr>\n",
       "      <th>floors</th>\n",
       "      <td>0.257</td>\n",
       "      <td>0.175</td>\n",
       "      <td>0.501</td>\n",
       "      <td>0.354</td>\n",
       "      <td>-0.005</td>\n",
       "      <td>1.000</td>\n",
       "      <td>0.024</td>\n",
       "      <td>0.029</td>\n",
       "      <td>-0.264</td>\n",
       "      <td>0.458</td>\n",
       "      <td>0.524</td>\n",
       "      <td>-0.246</td>\n",
       "      <td>0.489</td>\n",
       "      <td>0.006</td>\n",
       "      <td>0.280</td>\n",
       "      <td>-0.011</td>\n",
       "    </tr>\n",
       "    <tr>\n",
       "      <th>waterfront</th>\n",
       "      <td>0.266</td>\n",
       "      <td>-0.007</td>\n",
       "      <td>0.064</td>\n",
       "      <td>0.104</td>\n",
       "      <td>0.022</td>\n",
       "      <td>0.024</td>\n",
       "      <td>1.000</td>\n",
       "      <td>0.402</td>\n",
       "      <td>0.017</td>\n",
       "      <td>0.083</td>\n",
       "      <td>0.072</td>\n",
       "      <td>0.081</td>\n",
       "      <td>-0.026</td>\n",
       "      <td>0.093</td>\n",
       "      <td>0.086</td>\n",
       "      <td>0.031</td>\n",
       "    </tr>\n",
       "    <tr>\n",
       "      <th>view</th>\n",
       "      <td>0.397</td>\n",
       "      <td>0.080</td>\n",
       "      <td>0.188</td>\n",
       "      <td>0.285</td>\n",
       "      <td>0.075</td>\n",
       "      <td>0.029</td>\n",
       "      <td>0.402</td>\n",
       "      <td>1.000</td>\n",
       "      <td>0.046</td>\n",
       "      <td>0.251</td>\n",
       "      <td>0.168</td>\n",
       "      <td>0.277</td>\n",
       "      <td>-0.053</td>\n",
       "      <td>0.104</td>\n",
       "      <td>0.280</td>\n",
       "      <td>0.073</td>\n",
       "    </tr>\n",
       "    <tr>\n",
       "      <th>condition</th>\n",
       "      <td>0.036</td>\n",
       "      <td>0.028</td>\n",
       "      <td>-0.125</td>\n",
       "      <td>-0.059</td>\n",
       "      <td>-0.009</td>\n",
       "      <td>-0.264</td>\n",
       "      <td>0.017</td>\n",
       "      <td>0.046</td>\n",
       "      <td>1.000</td>\n",
       "      <td>-0.145</td>\n",
       "      <td>-0.158</td>\n",
       "      <td>0.174</td>\n",
       "      <td>-0.361</td>\n",
       "      <td>-0.061</td>\n",
       "      <td>-0.093</td>\n",
       "      <td>-0.003</td>\n",
       "    </tr>\n",
       "    <tr>\n",
       "      <th>grade</th>\n",
       "      <td>0.667</td>\n",
       "      <td>0.357</td>\n",
       "      <td>0.665</td>\n",
       "      <td>0.763</td>\n",
       "      <td>0.114</td>\n",
       "      <td>0.458</td>\n",
       "      <td>0.083</td>\n",
       "      <td>0.251</td>\n",
       "      <td>-0.145</td>\n",
       "      <td>1.000</td>\n",
       "      <td>0.756</td>\n",
       "      <td>0.168</td>\n",
       "      <td>0.447</td>\n",
       "      <td>0.014</td>\n",
       "      <td>0.713</td>\n",
       "      <td>0.119</td>\n",
       "    </tr>\n",
       "    <tr>\n",
       "      <th>sqft_above</th>\n",
       "      <td>0.606</td>\n",
       "      <td>0.478</td>\n",
       "      <td>0.685</td>\n",
       "      <td>0.877</td>\n",
       "      <td>0.184</td>\n",
       "      <td>0.524</td>\n",
       "      <td>0.072</td>\n",
       "      <td>0.168</td>\n",
       "      <td>-0.158</td>\n",
       "      <td>0.756</td>\n",
       "      <td>1.000</td>\n",
       "      <td>-0.052</td>\n",
       "      <td>0.424</td>\n",
       "      <td>0.023</td>\n",
       "      <td>0.732</td>\n",
       "      <td>0.194</td>\n",
       "    </tr>\n",
       "    <tr>\n",
       "      <th>sqft_basement</th>\n",
       "      <td>0.324</td>\n",
       "      <td>0.303</td>\n",
       "      <td>0.284</td>\n",
       "      <td>0.435</td>\n",
       "      <td>0.015</td>\n",
       "      <td>-0.246</td>\n",
       "      <td>0.081</td>\n",
       "      <td>0.277</td>\n",
       "      <td>0.174</td>\n",
       "      <td>0.168</td>\n",
       "      <td>-0.052</td>\n",
       "      <td>1.000</td>\n",
       "      <td>-0.133</td>\n",
       "      <td>0.071</td>\n",
       "      <td>0.200</td>\n",
       "      <td>0.017</td>\n",
       "    </tr>\n",
       "    <tr>\n",
       "      <th>yr_built</th>\n",
       "      <td>0.054</td>\n",
       "      <td>0.154</td>\n",
       "      <td>0.506</td>\n",
       "      <td>0.318</td>\n",
       "      <td>0.053</td>\n",
       "      <td>0.489</td>\n",
       "      <td>-0.026</td>\n",
       "      <td>-0.053</td>\n",
       "      <td>-0.361</td>\n",
       "      <td>0.447</td>\n",
       "      <td>0.424</td>\n",
       "      <td>-0.133</td>\n",
       "      <td>1.000</td>\n",
       "      <td>-0.225</td>\n",
       "      <td>0.326</td>\n",
       "      <td>0.071</td>\n",
       "    </tr>\n",
       "    <tr>\n",
       "      <th>yr_renovated</th>\n",
       "      <td>0.126</td>\n",
       "      <td>0.019</td>\n",
       "      <td>0.051</td>\n",
       "      <td>0.055</td>\n",
       "      <td>0.008</td>\n",
       "      <td>0.006</td>\n",
       "      <td>0.093</td>\n",
       "      <td>0.104</td>\n",
       "      <td>-0.061</td>\n",
       "      <td>0.014</td>\n",
       "      <td>0.023</td>\n",
       "      <td>0.071</td>\n",
       "      <td>-0.225</td>\n",
       "      <td>1.000</td>\n",
       "      <td>-0.003</td>\n",
       "      <td>0.008</td>\n",
       "    </tr>\n",
       "    <tr>\n",
       "      <th>sqft_living15</th>\n",
       "      <td>0.585</td>\n",
       "      <td>0.392</td>\n",
       "      <td>0.569</td>\n",
       "      <td>0.756</td>\n",
       "      <td>0.145</td>\n",
       "      <td>0.280</td>\n",
       "      <td>0.086</td>\n",
       "      <td>0.280</td>\n",
       "      <td>-0.093</td>\n",
       "      <td>0.713</td>\n",
       "      <td>0.732</td>\n",
       "      <td>0.200</td>\n",
       "      <td>0.326</td>\n",
       "      <td>-0.003</td>\n",
       "      <td>1.000</td>\n",
       "      <td>0.183</td>\n",
       "    </tr>\n",
       "    <tr>\n",
       "      <th>sqft_lot15</th>\n",
       "      <td>0.082</td>\n",
       "      <td>0.029</td>\n",
       "      <td>0.087</td>\n",
       "      <td>0.183</td>\n",
       "      <td>0.719</td>\n",
       "      <td>-0.011</td>\n",
       "      <td>0.031</td>\n",
       "      <td>0.073</td>\n",
       "      <td>-0.003</td>\n",
       "      <td>0.119</td>\n",
       "      <td>0.194</td>\n",
       "      <td>0.017</td>\n",
       "      <td>0.071</td>\n",
       "      <td>0.008</td>\n",
       "      <td>0.183</td>\n",
       "      <td>1.000</td>\n",
       "    </tr>\n",
       "  </tbody>\n",
       "</table>\n",
       "</div>"
      ],
      "text/plain": [
       "               price  bedrooms  bathrooms  sqft_living  sqft_lot  floors  \\\n",
       "price          1.000     0.308      0.525        0.702     0.090   0.257   \n",
       "bedrooms       0.308     1.000      0.516        0.577     0.032   0.175   \n",
       "bathrooms      0.525     0.516      1.000        0.755     0.088   0.501   \n",
       "sqft_living    0.702     0.577      0.755        1.000     0.173   0.354   \n",
       "sqft_lot       0.090     0.032      0.088        0.173     1.000  -0.005   \n",
       "floors         0.257     0.175      0.501        0.354    -0.005   1.000   \n",
       "waterfront     0.266    -0.007      0.064        0.104     0.022   0.024   \n",
       "view           0.397     0.080      0.188        0.285     0.075   0.029   \n",
       "condition      0.036     0.028     -0.125       -0.059    -0.009  -0.264   \n",
       "grade          0.667     0.357      0.665        0.763     0.114   0.458   \n",
       "sqft_above     0.606     0.478      0.685        0.877     0.184   0.524   \n",
       "sqft_basement  0.324     0.303      0.284        0.435     0.015  -0.246   \n",
       "yr_built       0.054     0.154      0.506        0.318     0.053   0.489   \n",
       "yr_renovated   0.126     0.019      0.051        0.055     0.008   0.006   \n",
       "sqft_living15  0.585     0.392      0.569        0.756     0.145   0.280   \n",
       "sqft_lot15     0.082     0.029      0.087        0.183     0.719  -0.011   \n",
       "\n",
       "               waterfront   view  condition  grade  sqft_above  sqft_basement  \\\n",
       "price               0.266  0.397      0.036  0.667       0.606          0.324   \n",
       "bedrooms           -0.007  0.080      0.028  0.357       0.478          0.303   \n",
       "bathrooms           0.064  0.188     -0.125  0.665       0.685          0.284   \n",
       "sqft_living         0.104  0.285     -0.059  0.763       0.877          0.435   \n",
       "sqft_lot            0.022  0.075     -0.009  0.114       0.184          0.015   \n",
       "floors              0.024  0.029     -0.264  0.458       0.524         -0.246   \n",
       "waterfront          1.000  0.402      0.017  0.083       0.072          0.081   \n",
       "view                0.402  1.000      0.046  0.251       0.168          0.277   \n",
       "condition           0.017  0.046      1.000 -0.145      -0.158          0.174   \n",
       "grade               0.083  0.251     -0.145  1.000       0.756          0.168   \n",
       "sqft_above          0.072  0.168     -0.158  0.756       1.000         -0.052   \n",
       "sqft_basement       0.081  0.277      0.174  0.168      -0.052          1.000   \n",
       "yr_built           -0.026 -0.053     -0.361  0.447       0.424         -0.133   \n",
       "yr_renovated        0.093  0.104     -0.061  0.014       0.023          0.071   \n",
       "sqft_living15       0.086  0.280     -0.093  0.713       0.732          0.200   \n",
       "sqft_lot15          0.031  0.073     -0.003  0.119       0.194          0.017   \n",
       "\n",
       "               yr_built  yr_renovated  sqft_living15  sqft_lot15  \n",
       "price             0.054         0.126          0.585       0.082  \n",
       "bedrooms          0.154         0.019          0.392       0.029  \n",
       "bathrooms         0.506         0.051          0.569       0.087  \n",
       "sqft_living       0.318         0.055          0.756       0.183  \n",
       "sqft_lot          0.053         0.008          0.145       0.719  \n",
       "floors            0.489         0.006          0.280      -0.011  \n",
       "waterfront       -0.026         0.093          0.086       0.031  \n",
       "view             -0.053         0.104          0.280       0.073  \n",
       "condition        -0.361        -0.061         -0.093      -0.003  \n",
       "grade             0.447         0.014          0.713       0.119  \n",
       "sqft_above        0.424         0.023          0.732       0.194  \n",
       "sqft_basement    -0.133         0.071          0.200       0.017  \n",
       "yr_built          1.000        -0.225          0.326       0.071  \n",
       "yr_renovated     -0.225         1.000         -0.003       0.008  \n",
       "sqft_living15     0.326        -0.003          1.000       0.183  \n",
       "sqft_lot15        0.071         0.008          0.183       1.000  "
      ]
     },
     "execution_count": 30,
     "metadata": {},
     "output_type": "execute_result"
    }
   ],
   "source": [
    "dataset.corr()"
   ]
  },
  {
   "cell_type": "code",
   "execution_count": 31,
   "metadata": {},
   "outputs": [
    {
     "data": {
      "text/plain": [
       "array([[<AxesSubplot:xlabel='price', ylabel='price'>,\n",
       "        <AxesSubplot:xlabel='bedrooms', ylabel='price'>,\n",
       "        <AxesSubplot:xlabel='bathrooms', ylabel='price'>,\n",
       "        <AxesSubplot:xlabel='sqft_living', ylabel='price'>,\n",
       "        <AxesSubplot:xlabel='sqft_lot', ylabel='price'>,\n",
       "        <AxesSubplot:xlabel='floors', ylabel='price'>,\n",
       "        <AxesSubplot:xlabel='waterfront', ylabel='price'>,\n",
       "        <AxesSubplot:xlabel='view', ylabel='price'>,\n",
       "        <AxesSubplot:xlabel='condition', ylabel='price'>,\n",
       "        <AxesSubplot:xlabel='grade', ylabel='price'>,\n",
       "        <AxesSubplot:xlabel='sqft_above', ylabel='price'>,\n",
       "        <AxesSubplot:xlabel='sqft_basement', ylabel='price'>,\n",
       "        <AxesSubplot:xlabel='yr_built', ylabel='price'>,\n",
       "        <AxesSubplot:xlabel='yr_renovated', ylabel='price'>,\n",
       "        <AxesSubplot:xlabel='sqft_living15', ylabel='price'>,\n",
       "        <AxesSubplot:xlabel='sqft_lot15', ylabel='price'>],\n",
       "       [<AxesSubplot:xlabel='price', ylabel='bedrooms'>,\n",
       "        <AxesSubplot:xlabel='bedrooms', ylabel='bedrooms'>,\n",
       "        <AxesSubplot:xlabel='bathrooms', ylabel='bedrooms'>,\n",
       "        <AxesSubplot:xlabel='sqft_living', ylabel='bedrooms'>,\n",
       "        <AxesSubplot:xlabel='sqft_lot', ylabel='bedrooms'>,\n",
       "        <AxesSubplot:xlabel='floors', ylabel='bedrooms'>,\n",
       "        <AxesSubplot:xlabel='waterfront', ylabel='bedrooms'>,\n",
       "        <AxesSubplot:xlabel='view', ylabel='bedrooms'>,\n",
       "        <AxesSubplot:xlabel='condition', ylabel='bedrooms'>,\n",
       "        <AxesSubplot:xlabel='grade', ylabel='bedrooms'>,\n",
       "        <AxesSubplot:xlabel='sqft_above', ylabel='bedrooms'>,\n",
       "        <AxesSubplot:xlabel='sqft_basement', ylabel='bedrooms'>,\n",
       "        <AxesSubplot:xlabel='yr_built', ylabel='bedrooms'>,\n",
       "        <AxesSubplot:xlabel='yr_renovated', ylabel='bedrooms'>,\n",
       "        <AxesSubplot:xlabel='sqft_living15', ylabel='bedrooms'>,\n",
       "        <AxesSubplot:xlabel='sqft_lot15', ylabel='bedrooms'>],\n",
       "       [<AxesSubplot:xlabel='price', ylabel='bathrooms'>,\n",
       "        <AxesSubplot:xlabel='bedrooms', ylabel='bathrooms'>,\n",
       "        <AxesSubplot:xlabel='bathrooms', ylabel='bathrooms'>,\n",
       "        <AxesSubplot:xlabel='sqft_living', ylabel='bathrooms'>,\n",
       "        <AxesSubplot:xlabel='sqft_lot', ylabel='bathrooms'>,\n",
       "        <AxesSubplot:xlabel='floors', ylabel='bathrooms'>,\n",
       "        <AxesSubplot:xlabel='waterfront', ylabel='bathrooms'>,\n",
       "        <AxesSubplot:xlabel='view', ylabel='bathrooms'>,\n",
       "        <AxesSubplot:xlabel='condition', ylabel='bathrooms'>,\n",
       "        <AxesSubplot:xlabel='grade', ylabel='bathrooms'>,\n",
       "        <AxesSubplot:xlabel='sqft_above', ylabel='bathrooms'>,\n",
       "        <AxesSubplot:xlabel='sqft_basement', ylabel='bathrooms'>,\n",
       "        <AxesSubplot:xlabel='yr_built', ylabel='bathrooms'>,\n",
       "        <AxesSubplot:xlabel='yr_renovated', ylabel='bathrooms'>,\n",
       "        <AxesSubplot:xlabel='sqft_living15', ylabel='bathrooms'>,\n",
       "        <AxesSubplot:xlabel='sqft_lot15', ylabel='bathrooms'>],\n",
       "       [<AxesSubplot:xlabel='price', ylabel='sqft_living'>,\n",
       "        <AxesSubplot:xlabel='bedrooms', ylabel='sqft_living'>,\n",
       "        <AxesSubplot:xlabel='bathrooms', ylabel='sqft_living'>,\n",
       "        <AxesSubplot:xlabel='sqft_living', ylabel='sqft_living'>,\n",
       "        <AxesSubplot:xlabel='sqft_lot', ylabel='sqft_living'>,\n",
       "        <AxesSubplot:xlabel='floors', ylabel='sqft_living'>,\n",
       "        <AxesSubplot:xlabel='waterfront', ylabel='sqft_living'>,\n",
       "        <AxesSubplot:xlabel='view', ylabel='sqft_living'>,\n",
       "        <AxesSubplot:xlabel='condition', ylabel='sqft_living'>,\n",
       "        <AxesSubplot:xlabel='grade', ylabel='sqft_living'>,\n",
       "        <AxesSubplot:xlabel='sqft_above', ylabel='sqft_living'>,\n",
       "        <AxesSubplot:xlabel='sqft_basement', ylabel='sqft_living'>,\n",
       "        <AxesSubplot:xlabel='yr_built', ylabel='sqft_living'>,\n",
       "        <AxesSubplot:xlabel='yr_renovated', ylabel='sqft_living'>,\n",
       "        <AxesSubplot:xlabel='sqft_living15', ylabel='sqft_living'>,\n",
       "        <AxesSubplot:xlabel='sqft_lot15', ylabel='sqft_living'>],\n",
       "       [<AxesSubplot:xlabel='price', ylabel='sqft_lot'>,\n",
       "        <AxesSubplot:xlabel='bedrooms', ylabel='sqft_lot'>,\n",
       "        <AxesSubplot:xlabel='bathrooms', ylabel='sqft_lot'>,\n",
       "        <AxesSubplot:xlabel='sqft_living', ylabel='sqft_lot'>,\n",
       "        <AxesSubplot:xlabel='sqft_lot', ylabel='sqft_lot'>,\n",
       "        <AxesSubplot:xlabel='floors', ylabel='sqft_lot'>,\n",
       "        <AxesSubplot:xlabel='waterfront', ylabel='sqft_lot'>,\n",
       "        <AxesSubplot:xlabel='view', ylabel='sqft_lot'>,\n",
       "        <AxesSubplot:xlabel='condition', ylabel='sqft_lot'>,\n",
       "        <AxesSubplot:xlabel='grade', ylabel='sqft_lot'>,\n",
       "        <AxesSubplot:xlabel='sqft_above', ylabel='sqft_lot'>,\n",
       "        <AxesSubplot:xlabel='sqft_basement', ylabel='sqft_lot'>,\n",
       "        <AxesSubplot:xlabel='yr_built', ylabel='sqft_lot'>,\n",
       "        <AxesSubplot:xlabel='yr_renovated', ylabel='sqft_lot'>,\n",
       "        <AxesSubplot:xlabel='sqft_living15', ylabel='sqft_lot'>,\n",
       "        <AxesSubplot:xlabel='sqft_lot15', ylabel='sqft_lot'>],\n",
       "       [<AxesSubplot:xlabel='price', ylabel='floors'>,\n",
       "        <AxesSubplot:xlabel='bedrooms', ylabel='floors'>,\n",
       "        <AxesSubplot:xlabel='bathrooms', ylabel='floors'>,\n",
       "        <AxesSubplot:xlabel='sqft_living', ylabel='floors'>,\n",
       "        <AxesSubplot:xlabel='sqft_lot', ylabel='floors'>,\n",
       "        <AxesSubplot:xlabel='floors', ylabel='floors'>,\n",
       "        <AxesSubplot:xlabel='waterfront', ylabel='floors'>,\n",
       "        <AxesSubplot:xlabel='view', ylabel='floors'>,\n",
       "        <AxesSubplot:xlabel='condition', ylabel='floors'>,\n",
       "        <AxesSubplot:xlabel='grade', ylabel='floors'>,\n",
       "        <AxesSubplot:xlabel='sqft_above', ylabel='floors'>,\n",
       "        <AxesSubplot:xlabel='sqft_basement', ylabel='floors'>,\n",
       "        <AxesSubplot:xlabel='yr_built', ylabel='floors'>,\n",
       "        <AxesSubplot:xlabel='yr_renovated', ylabel='floors'>,\n",
       "        <AxesSubplot:xlabel='sqft_living15', ylabel='floors'>,\n",
       "        <AxesSubplot:xlabel='sqft_lot15', ylabel='floors'>],\n",
       "       [<AxesSubplot:xlabel='price', ylabel='waterfront'>,\n",
       "        <AxesSubplot:xlabel='bedrooms', ylabel='waterfront'>,\n",
       "        <AxesSubplot:xlabel='bathrooms', ylabel='waterfront'>,\n",
       "        <AxesSubplot:xlabel='sqft_living', ylabel='waterfront'>,\n",
       "        <AxesSubplot:xlabel='sqft_lot', ylabel='waterfront'>,\n",
       "        <AxesSubplot:xlabel='floors', ylabel='waterfront'>,\n",
       "        <AxesSubplot:xlabel='waterfront', ylabel='waterfront'>,\n",
       "        <AxesSubplot:xlabel='view', ylabel='waterfront'>,\n",
       "        <AxesSubplot:xlabel='condition', ylabel='waterfront'>,\n",
       "        <AxesSubplot:xlabel='grade', ylabel='waterfront'>,\n",
       "        <AxesSubplot:xlabel='sqft_above', ylabel='waterfront'>,\n",
       "        <AxesSubplot:xlabel='sqft_basement', ylabel='waterfront'>,\n",
       "        <AxesSubplot:xlabel='yr_built', ylabel='waterfront'>,\n",
       "        <AxesSubplot:xlabel='yr_renovated', ylabel='waterfront'>,\n",
       "        <AxesSubplot:xlabel='sqft_living15', ylabel='waterfront'>,\n",
       "        <AxesSubplot:xlabel='sqft_lot15', ylabel='waterfront'>],\n",
       "       [<AxesSubplot:xlabel='price', ylabel='view'>,\n",
       "        <AxesSubplot:xlabel='bedrooms', ylabel='view'>,\n",
       "        <AxesSubplot:xlabel='bathrooms', ylabel='view'>,\n",
       "        <AxesSubplot:xlabel='sqft_living', ylabel='view'>,\n",
       "        <AxesSubplot:xlabel='sqft_lot', ylabel='view'>,\n",
       "        <AxesSubplot:xlabel='floors', ylabel='view'>,\n",
       "        <AxesSubplot:xlabel='waterfront', ylabel='view'>,\n",
       "        <AxesSubplot:xlabel='view', ylabel='view'>,\n",
       "        <AxesSubplot:xlabel='condition', ylabel='view'>,\n",
       "        <AxesSubplot:xlabel='grade', ylabel='view'>,\n",
       "        <AxesSubplot:xlabel='sqft_above', ylabel='view'>,\n",
       "        <AxesSubplot:xlabel='sqft_basement', ylabel='view'>,\n",
       "        <AxesSubplot:xlabel='yr_built', ylabel='view'>,\n",
       "        <AxesSubplot:xlabel='yr_renovated', ylabel='view'>,\n",
       "        <AxesSubplot:xlabel='sqft_living15', ylabel='view'>,\n",
       "        <AxesSubplot:xlabel='sqft_lot15', ylabel='view'>],\n",
       "       [<AxesSubplot:xlabel='price', ylabel='condition'>,\n",
       "        <AxesSubplot:xlabel='bedrooms', ylabel='condition'>,\n",
       "        <AxesSubplot:xlabel='bathrooms', ylabel='condition'>,\n",
       "        <AxesSubplot:xlabel='sqft_living', ylabel='condition'>,\n",
       "        <AxesSubplot:xlabel='sqft_lot', ylabel='condition'>,\n",
       "        <AxesSubplot:xlabel='floors', ylabel='condition'>,\n",
       "        <AxesSubplot:xlabel='waterfront', ylabel='condition'>,\n",
       "        <AxesSubplot:xlabel='view', ylabel='condition'>,\n",
       "        <AxesSubplot:xlabel='condition', ylabel='condition'>,\n",
       "        <AxesSubplot:xlabel='grade', ylabel='condition'>,\n",
       "        <AxesSubplot:xlabel='sqft_above', ylabel='condition'>,\n",
       "        <AxesSubplot:xlabel='sqft_basement', ylabel='condition'>,\n",
       "        <AxesSubplot:xlabel='yr_built', ylabel='condition'>,\n",
       "        <AxesSubplot:xlabel='yr_renovated', ylabel='condition'>,\n",
       "        <AxesSubplot:xlabel='sqft_living15', ylabel='condition'>,\n",
       "        <AxesSubplot:xlabel='sqft_lot15', ylabel='condition'>],\n",
       "       [<AxesSubplot:xlabel='price', ylabel='grade'>,\n",
       "        <AxesSubplot:xlabel='bedrooms', ylabel='grade'>,\n",
       "        <AxesSubplot:xlabel='bathrooms', ylabel='grade'>,\n",
       "        <AxesSubplot:xlabel='sqft_living', ylabel='grade'>,\n",
       "        <AxesSubplot:xlabel='sqft_lot', ylabel='grade'>,\n",
       "        <AxesSubplot:xlabel='floors', ylabel='grade'>,\n",
       "        <AxesSubplot:xlabel='waterfront', ylabel='grade'>,\n",
       "        <AxesSubplot:xlabel='view', ylabel='grade'>,\n",
       "        <AxesSubplot:xlabel='condition', ylabel='grade'>,\n",
       "        <AxesSubplot:xlabel='grade', ylabel='grade'>,\n",
       "        <AxesSubplot:xlabel='sqft_above', ylabel='grade'>,\n",
       "        <AxesSubplot:xlabel='sqft_basement', ylabel='grade'>,\n",
       "        <AxesSubplot:xlabel='yr_built', ylabel='grade'>,\n",
       "        <AxesSubplot:xlabel='yr_renovated', ylabel='grade'>,\n",
       "        <AxesSubplot:xlabel='sqft_living15', ylabel='grade'>,\n",
       "        <AxesSubplot:xlabel='sqft_lot15', ylabel='grade'>],\n",
       "       [<AxesSubplot:xlabel='price', ylabel='sqft_above'>,\n",
       "        <AxesSubplot:xlabel='bedrooms', ylabel='sqft_above'>,\n",
       "        <AxesSubplot:xlabel='bathrooms', ylabel='sqft_above'>,\n",
       "        <AxesSubplot:xlabel='sqft_living', ylabel='sqft_above'>,\n",
       "        <AxesSubplot:xlabel='sqft_lot', ylabel='sqft_above'>,\n",
       "        <AxesSubplot:xlabel='floors', ylabel='sqft_above'>,\n",
       "        <AxesSubplot:xlabel='waterfront', ylabel='sqft_above'>,\n",
       "        <AxesSubplot:xlabel='view', ylabel='sqft_above'>,\n",
       "        <AxesSubplot:xlabel='condition', ylabel='sqft_above'>,\n",
       "        <AxesSubplot:xlabel='grade', ylabel='sqft_above'>,\n",
       "        <AxesSubplot:xlabel='sqft_above', ylabel='sqft_above'>,\n",
       "        <AxesSubplot:xlabel='sqft_basement', ylabel='sqft_above'>,\n",
       "        <AxesSubplot:xlabel='yr_built', ylabel='sqft_above'>,\n",
       "        <AxesSubplot:xlabel='yr_renovated', ylabel='sqft_above'>,\n",
       "        <AxesSubplot:xlabel='sqft_living15', ylabel='sqft_above'>,\n",
       "        <AxesSubplot:xlabel='sqft_lot15', ylabel='sqft_above'>],\n",
       "       [<AxesSubplot:xlabel='price', ylabel='sqft_basement'>,\n",
       "        <AxesSubplot:xlabel='bedrooms', ylabel='sqft_basement'>,\n",
       "        <AxesSubplot:xlabel='bathrooms', ylabel='sqft_basement'>,\n",
       "        <AxesSubplot:xlabel='sqft_living', ylabel='sqft_basement'>,\n",
       "        <AxesSubplot:xlabel='sqft_lot', ylabel='sqft_basement'>,\n",
       "        <AxesSubplot:xlabel='floors', ylabel='sqft_basement'>,\n",
       "        <AxesSubplot:xlabel='waterfront', ylabel='sqft_basement'>,\n",
       "        <AxesSubplot:xlabel='view', ylabel='sqft_basement'>,\n",
       "        <AxesSubplot:xlabel='condition', ylabel='sqft_basement'>,\n",
       "        <AxesSubplot:xlabel='grade', ylabel='sqft_basement'>,\n",
       "        <AxesSubplot:xlabel='sqft_above', ylabel='sqft_basement'>,\n",
       "        <AxesSubplot:xlabel='sqft_basement', ylabel='sqft_basement'>,\n",
       "        <AxesSubplot:xlabel='yr_built', ylabel='sqft_basement'>,\n",
       "        <AxesSubplot:xlabel='yr_renovated', ylabel='sqft_basement'>,\n",
       "        <AxesSubplot:xlabel='sqft_living15', ylabel='sqft_basement'>,\n",
       "        <AxesSubplot:xlabel='sqft_lot15', ylabel='sqft_basement'>],\n",
       "       [<AxesSubplot:xlabel='price', ylabel='yr_built'>,\n",
       "        <AxesSubplot:xlabel='bedrooms', ylabel='yr_built'>,\n",
       "        <AxesSubplot:xlabel='bathrooms', ylabel='yr_built'>,\n",
       "        <AxesSubplot:xlabel='sqft_living', ylabel='yr_built'>,\n",
       "        <AxesSubplot:xlabel='sqft_lot', ylabel='yr_built'>,\n",
       "        <AxesSubplot:xlabel='floors', ylabel='yr_built'>,\n",
       "        <AxesSubplot:xlabel='waterfront', ylabel='yr_built'>,\n",
       "        <AxesSubplot:xlabel='view', ylabel='yr_built'>,\n",
       "        <AxesSubplot:xlabel='condition', ylabel='yr_built'>,\n",
       "        <AxesSubplot:xlabel='grade', ylabel='yr_built'>,\n",
       "        <AxesSubplot:xlabel='sqft_above', ylabel='yr_built'>,\n",
       "        <AxesSubplot:xlabel='sqft_basement', ylabel='yr_built'>,\n",
       "        <AxesSubplot:xlabel='yr_built', ylabel='yr_built'>,\n",
       "        <AxesSubplot:xlabel='yr_renovated', ylabel='yr_built'>,\n",
       "        <AxesSubplot:xlabel='sqft_living15', ylabel='yr_built'>,\n",
       "        <AxesSubplot:xlabel='sqft_lot15', ylabel='yr_built'>],\n",
       "       [<AxesSubplot:xlabel='price', ylabel='yr_renovated'>,\n",
       "        <AxesSubplot:xlabel='bedrooms', ylabel='yr_renovated'>,\n",
       "        <AxesSubplot:xlabel='bathrooms', ylabel='yr_renovated'>,\n",
       "        <AxesSubplot:xlabel='sqft_living', ylabel='yr_renovated'>,\n",
       "        <AxesSubplot:xlabel='sqft_lot', ylabel='yr_renovated'>,\n",
       "        <AxesSubplot:xlabel='floors', ylabel='yr_renovated'>,\n",
       "        <AxesSubplot:xlabel='waterfront', ylabel='yr_renovated'>,\n",
       "        <AxesSubplot:xlabel='view', ylabel='yr_renovated'>,\n",
       "        <AxesSubplot:xlabel='condition', ylabel='yr_renovated'>,\n",
       "        <AxesSubplot:xlabel='grade', ylabel='yr_renovated'>,\n",
       "        <AxesSubplot:xlabel='sqft_above', ylabel='yr_renovated'>,\n",
       "        <AxesSubplot:xlabel='sqft_basement', ylabel='yr_renovated'>,\n",
       "        <AxesSubplot:xlabel='yr_built', ylabel='yr_renovated'>,\n",
       "        <AxesSubplot:xlabel='yr_renovated', ylabel='yr_renovated'>,\n",
       "        <AxesSubplot:xlabel='sqft_living15', ylabel='yr_renovated'>,\n",
       "        <AxesSubplot:xlabel='sqft_lot15', ylabel='yr_renovated'>],\n",
       "       [<AxesSubplot:xlabel='price', ylabel='sqft_living15'>,\n",
       "        <AxesSubplot:xlabel='bedrooms', ylabel='sqft_living15'>,\n",
       "        <AxesSubplot:xlabel='bathrooms', ylabel='sqft_living15'>,\n",
       "        <AxesSubplot:xlabel='sqft_living', ylabel='sqft_living15'>,\n",
       "        <AxesSubplot:xlabel='sqft_lot', ylabel='sqft_living15'>,\n",
       "        <AxesSubplot:xlabel='floors', ylabel='sqft_living15'>,\n",
       "        <AxesSubplot:xlabel='waterfront', ylabel='sqft_living15'>,\n",
       "        <AxesSubplot:xlabel='view', ylabel='sqft_living15'>,\n",
       "        <AxesSubplot:xlabel='condition', ylabel='sqft_living15'>,\n",
       "        <AxesSubplot:xlabel='grade', ylabel='sqft_living15'>,\n",
       "        <AxesSubplot:xlabel='sqft_above', ylabel='sqft_living15'>,\n",
       "        <AxesSubplot:xlabel='sqft_basement', ylabel='sqft_living15'>,\n",
       "        <AxesSubplot:xlabel='yr_built', ylabel='sqft_living15'>,\n",
       "        <AxesSubplot:xlabel='yr_renovated', ylabel='sqft_living15'>,\n",
       "        <AxesSubplot:xlabel='sqft_living15', ylabel='sqft_living15'>,\n",
       "        <AxesSubplot:xlabel='sqft_lot15', ylabel='sqft_living15'>],\n",
       "       [<AxesSubplot:xlabel='price', ylabel='sqft_lot15'>,\n",
       "        <AxesSubplot:xlabel='bedrooms', ylabel='sqft_lot15'>,\n",
       "        <AxesSubplot:xlabel='bathrooms', ylabel='sqft_lot15'>,\n",
       "        <AxesSubplot:xlabel='sqft_living', ylabel='sqft_lot15'>,\n",
       "        <AxesSubplot:xlabel='sqft_lot', ylabel='sqft_lot15'>,\n",
       "        <AxesSubplot:xlabel='floors', ylabel='sqft_lot15'>,\n",
       "        <AxesSubplot:xlabel='waterfront', ylabel='sqft_lot15'>,\n",
       "        <AxesSubplot:xlabel='view', ylabel='sqft_lot15'>,\n",
       "        <AxesSubplot:xlabel='condition', ylabel='sqft_lot15'>,\n",
       "        <AxesSubplot:xlabel='grade', ylabel='sqft_lot15'>,\n",
       "        <AxesSubplot:xlabel='sqft_above', ylabel='sqft_lot15'>,\n",
       "        <AxesSubplot:xlabel='sqft_basement', ylabel='sqft_lot15'>,\n",
       "        <AxesSubplot:xlabel='yr_built', ylabel='sqft_lot15'>,\n",
       "        <AxesSubplot:xlabel='yr_renovated', ylabel='sqft_lot15'>,\n",
       "        <AxesSubplot:xlabel='sqft_living15', ylabel='sqft_lot15'>,\n",
       "        <AxesSubplot:xlabel='sqft_lot15', ylabel='sqft_lot15'>]],\n",
       "      dtype=object)"
      ]
     },
     "execution_count": 31,
     "metadata": {},
     "output_type": "execute_result"
    },
    {
     "data": {
      "image/png": "[encoded data removed]",
      "text/plain": [
       "<Figure size 432x288 with 256 Axes>"
      ]
     },
     "metadata": {
      "needs_background": "light"
     },
     "output_type": "display_data"
    }
   ],
   "source": [
    "scatter_matrix(dataset)"
   ]
  },
  {
   "cell_type": "code",
   "execution_count": 32,
   "metadata": {},
   "outputs": [
    {
     "data": {
      "text/plain": [
       "<AxesSubplot:>"
      ]
     },
     "execution_count": 32,
     "metadata": {},
     "output_type": "execute_result"
    },
    {
     "data": {
      "image/png": "[encoded data removed]",
      "text/plain": [
       "<Figure size 432x288 with 2 Axes>"
      ]
     },
     "metadata": {
      "needs_background": "light"
     },
     "output_type": "display_data"
    }
   ],
   "source": [
    "sns.heatmap(dataset.corr())"
   ]
  },
  {
   "cell_type": "code",
   "execution_count": 33,
   "metadata": {},
   "outputs": [],
   "source": [
    "array = dataset.values"
   ]
  },
  {
   "cell_type": "code",
   "execution_count": 34,
   "metadata": {},
   "outputs": [
    {
     "data": {
      "text/plain": [
       "array([[2.21900e+05, 3.00000e+00, 1.00000e+00, ..., 0.00000e+00,\n",
       "        1.34000e+03, 5.65000e+03],\n",
       "       [5.38000e+05, 3.00000e+00, 2.25000e+00, ..., 1.99100e+03,\n",
       "        1.69000e+03, 7.63900e+03],\n",
       "       [1.80000e+05, 2.00000e+00, 1.00000e+00, ..., 0.00000e+00,\n",
       "        2.72000e+03, 8.06200e+03],\n",
       "       ...,\n",
       "       [4.02101e+05, 2.00000e+00, 7.50000e-01, ..., 0.00000e+00,\n",
       "        1.02000e+03, 2.00700e+03],\n",
       "       [4.00000e+05, 3.00000e+00, 2.50000e+00, ..., 0.00000e+00,\n",
       "        1.41000e+03, 1.28700e+03],\n",
       "       [3.25000e+05, 2.00000e+00, 7.50000e-01, ..., 0.00000e+00,\n",
       "        1.02000e+03, 1.35700e+03]])"
      ]
     },
     "execution_count": 34,
     "metadata": {},
     "output_type": "execute_result"
    }
   ],
   "source": [
    "array"
   ]
  },
  {
   "cell_type": "code",
   "execution_count": 35,
   "metadata": {},
   "outputs": [
    {
     "data": {
      "text/plain": [
       "array([[2.21900e+05, 3.00000e+00, 1.00000e+00, ..., 7.00000e+00,\n",
       "        1.18000e+03, 0.00000e+00],\n",
       "       [5.38000e+05, 3.00000e+00, 2.25000e+00, ..., 7.00000e+00,\n",
       "        2.17000e+03, 4.00000e+02],\n",
       "       [1.80000e+05, 2.00000e+00, 1.00000e+00, ..., 6.00000e+00,\n",
       "        7.70000e+02, 0.00000e+00],\n",
       "       ...,\n",
       "       [4.02101e+05, 2.00000e+00, 7.50000e-01, ..., 7.00000e+00,\n",
       "        1.02000e+03, 0.00000e+00],\n",
       "       [4.00000e+05, 3.00000e+00, 2.50000e+00, ..., 8.00000e+00,\n",
       "        1.60000e+03, 0.00000e+00],\n",
       "       [3.25000e+05, 2.00000e+00, 7.50000e-01, ..., 7.00000e+00,\n",
       "        1.02000e+03, 0.00000e+00]])"
      ]
     },
     "execution_count": 35,
     "metadata": {},
     "output_type": "execute_result"
    }
   ],
   "source": [
    "X = array[:,0:12]\n",
    "X"
   ]
  },
  {
   "cell_type": "code",
   "execution_count": 36,
   "metadata": {},
   "outputs": [
    {
     "data": {
      "text/plain": [
       "array([[3.000e+00, 1.000e+00, 1.180e+03, ..., 0.000e+00, 1.340e+03,\n",
       "        5.650e+03],\n",
       "       [3.000e+00, 2.250e+00, 2.570e+03, ..., 1.991e+03, 1.690e+03,\n",
       "        7.639e+03],\n",
       "       [2.000e+00, 1.000e+00, 7.700e+02, ..., 0.000e+00, 2.720e+03,\n",
       "        8.062e+03],\n",
       "       ...,\n",
       "       [2.000e+00, 7.500e-01, 1.020e+03, ..., 0.000e+00, 1.020e+03,\n",
       "        2.007e+03],\n",
       "       [3.000e+00, 2.500e+00, 1.600e+03, ..., 0.000e+00, 1.410e+03,\n",
       "        1.287e+03],\n",
       "       [2.000e+00, 7.500e-01, 1.020e+03, ..., 0.000e+00, 1.020e+03,\n",
       "        1.357e+03]])"
      ]
     },
     "execution_count": 36,
     "metadata": {},
     "output_type": "execute_result"
    }
   ],
   "source": [
    "X = array[:,1:]\n",
    "X"
   ]
  },
  {
   "cell_type": "code",
   "execution_count": 37,
   "metadata": {},
   "outputs": [
    {
     "data": {
      "text/plain": [
       "array([221900., 538000., 180000., ..., 402101., 400000., 325000.])"
      ]
     },
     "execution_count": 37,
     "metadata": {},
     "output_type": "execute_result"
    }
   ],
   "source": [
    "y = array[:,0]\n",
    "y"
   ]
  },
  {
   "cell_type": "code",
   "execution_count": 38,
   "metadata": {},
   "outputs": [],
   "source": [
    "test_size = 0.2\n",
    "seed = 42"
   ]
  },
  {
   "cell_type": "code",
   "execution_count": 39,
   "metadata": {},
   "outputs": [],
   "source": [
    "X_train, X_test, y_train, y_test = train_test_split(X, y, test_size=test_size, random_state=seed)"
   ]
  },
  {
   "cell_type": "code",
   "execution_count": 40,
   "metadata": {},
   "outputs": [
    {
     "data": {
      "text/plain": [
       "array([[3.0000e+00, 1.7500e+00, 1.7800e+03, ..., 0.0000e+00, 2.7500e+03,\n",
       "        1.3095e+04],\n",
       "       [2.0000e+00, 1.0000e+00, 1.0000e+03, ..., 0.0000e+00, 1.2700e+03,\n",
       "        5.0000e+03],\n",
       "       [3.0000e+00, 1.0000e+00, 1.0800e+03, ..., 0.0000e+00, 1.1700e+03,\n",
       "        7.8000e+03],\n",
       "       ...,\n",
       "       [3.0000e+00, 2.5000e+00, 2.1200e+03, ..., 0.0000e+00, 1.6900e+03,\n",
       "        2.6500e+03],\n",
       "       [1.0000e+00, 7.5000e-01, 3.8000e+02, ..., 0.0000e+00, 1.1700e+03,\n",
       "        1.5000e+04],\n",
       "       [4.0000e+00, 2.5000e+00, 3.1300e+03, ..., 0.0000e+00, 3.0200e+03,\n",
       "        5.9970e+03]])"
      ]
     },
     "execution_count": 40,
     "metadata": {},
     "output_type": "execute_result"
    }
   ],
   "source": [
    "X_train"
   ]
  },
  {
   "cell_type": "code",
   "execution_count": 41,
   "metadata": {},
   "outputs": [
    {
     "data": {
      "text/plain": [
       "array([325000., 257000., 228500., ..., 575000., 245000., 315000.])"
      ]
     },
     "execution_count": 41,
     "metadata": {},
     "output_type": "execute_result"
    }
   ],
   "source": [
    "y_train"
   ]
  },
  {
   "cell_type": "code",
   "execution_count": 42,
   "metadata": {},
   "outputs": [
    {
     "data": {
      "text/plain": [
       "array([[4.000e+00, 2.250e+00, 2.070e+03, ..., 0.000e+00, 2.390e+03,\n",
       "        7.700e+03],\n",
       "       [5.000e+00, 3.000e+00, 2.900e+03, ..., 0.000e+00, 2.370e+03,\n",
       "        6.283e+03],\n",
       "       [4.000e+00, 2.500e+00, 3.770e+03, ..., 0.000e+00, 3.710e+03,\n",
       "        9.685e+03],\n",
       "       ...,\n",
       "       [4.000e+00, 2.500e+00, 2.434e+03, ..., 0.000e+00, 2.434e+03,\n",
       "        4.400e+03],\n",
       "       [4.000e+00, 1.750e+00, 2.250e+03, ..., 0.000e+00, 2.050e+03,\n",
       "        9.750e+03],\n",
       "       [4.000e+00, 2.500e+00, 2.570e+03, ..., 0.000e+00, 2.430e+03,\n",
       "        5.997e+03]])"
      ]
     },
     "execution_count": 42,
     "metadata": {},
     "output_type": "execute_result"
    }
   ],
   "source": [
    "X_test"
   ]
  },
  {
   "cell_type": "code",
   "execution_count": 43,
   "metadata": {},
   "outputs": [
    {
     "data": {
      "text/plain": [
       "array([ 365000.,  865000., 1038000., ...,  285000.,  605000.,  356500.])"
      ]
     },
     "execution_count": 43,
     "metadata": {},
     "output_type": "execute_result"
    }
   ],
   "source": [
    "y_test"
   ]
  },
  {
   "cell_type": "code",
   "execution_count": 44,
   "metadata": {},
   "outputs": [],
   "source": [
    "num_folds = 10\n",
    "seed = 42"
   ]
  },
  {
   "cell_type": "code",
   "execution_count": 45,
   "metadata": {},
   "outputs": [],
   "source": [
    "scoring = 'neg_mean_squared_error'"
   ]
  },
  {
   "cell_type": "code",
   "execution_count": 46,
   "metadata": {},
   "outputs": [],
   "source": [
    "model = KNeighborsRegressor()"
   ]
  },
  {
   "cell_type": "code",
   "execution_count": 47,
   "metadata": {},
   "outputs": [],
   "source": [
    "kfold = KFold(n_splits=num_folds, shuffle=True, random_state=seed)"
   ]
  },
  {
   "cell_type": "code",
   "execution_count": 48,
   "metadata": {},
   "outputs": [
    {
     "name": "stdout",
     "output_type": "stream",
     "text": [
      "KNN: -65966508003.829727 (13280274207.415066)\n"
     ]
    }
   ],
   "source": [
    "cv_results = cross_val_score(model, X_train, y_train, cv=kfold, scoring=scoring)\n",
    "msg = \"KNN: %f (%f)\" % (cv_results.mean(), cv_results.std())\n",
    "print(msg)"
   ]
  },
  {
   "cell_type": "code",
   "execution_count": 49,
   "metadata": {},
   "outputs": [
    {
     "data": {
      "text/plain": [
       "array([-5.98111274e+10, -5.99108982e+10, -6.00829485e+10, -5.95064261e+10,\n",
       "       -8.90676852e+10, -4.71445484e+10, -8.97212513e+10, -7.39245852e+10,\n",
       "       -5.62608089e+10, -6.42348009e+10])"
      ]
     },
     "execution_count": 49,
     "metadata": {},
     "output_type": "execute_result"
    }
   ],
   "source": [
    "cv_results"
   ]
  },
  {
   "cell_type": "code",
   "execution_count": 50,
   "metadata": {},
   "outputs": [],
   "source": [
    "scaler = StandardScaler().fit(X_train)"
   ]
  },
  {
   "cell_type": "code",
   "execution_count": 51,
   "metadata": {},
   "outputs": [],
   "source": [
    "rescaledX_train = scaler.transform(X_train)"
   ]
  },
  {
   "cell_type": "code",
   "execution_count": 52,
   "metadata": {},
   "outputs": [
    {
     "data": {
      "text/plain": [
       "array([[-0.39526335, -0.47445144, -0.32393262, ..., -0.20829394,\n",
       "         1.12607326,  0.01344043],\n",
       "       [-1.46896378, -1.45258323, -1.18365301, ..., -0.20829394,\n",
       "        -1.04652268, -0.28066159],\n",
       "       [-0.39526335, -1.45258323, -1.09547656, ..., -0.20829394,\n",
       "        -1.19331971, -0.1789339 ],\n",
       "       ...,\n",
       "       [-0.39526335,  0.50368036,  0.05081729, ..., -0.20829394,\n",
       "        -0.42997519, -0.36604019],\n",
       "       [-2.54266422, -1.77862716, -1.8670205 , ..., -0.20829394,\n",
       "        -1.19331971,  0.08265159],\n",
       "       [ 0.67843709,  0.50368036,  1.16404497, ..., -0.20829394,\n",
       "         1.52242522, -0.24443927]])"
      ]
     },
     "execution_count": 52,
     "metadata": {},
     "output_type": "execute_result"
    }
   ],
   "source": [
    "rescaledX_train"
   ]
  },
  {
   "cell_type": "code",
   "execution_count": 53,
   "metadata": {},
   "outputs": [],
   "source": [
    "k_values = np.arange(1,22)"
   ]
  },
  {
   "cell_type": "code",
   "execution_count": 54,
   "metadata": {},
   "outputs": [],
   "source": [
    "param_grid = dict(n_neighbors=k_values)"
   ]
  },
  {
   "cell_type": "code",
   "execution_count": 55,
   "metadata": {},
   "outputs": [],
   "source": [
    "model = KNeighborsRegressor()"
   ]
  },
  {
   "cell_type": "code",
   "execution_count": 56,
   "metadata": {},
   "outputs": [],
   "source": [
    "kfold = KFold(n_splits=num_folds, shuffle=True, random_state=seed)"
   ]
  },
  {
   "cell_type": "code",
   "execution_count": 57,
   "metadata": {},
   "outputs": [],
   "source": [
    "grid = GridSearchCV(estimator=model, param_grid=param_grid, scoring=scoring, cv=kfold)"
   ]
  },
  {
   "cell_type": "code",
   "execution_count": 58,
   "metadata": {},
   "outputs": [],
   "source": [
    "grid_results = grid.fit(rescaledX_train, y_train)"
   ]
  },
  {
   "cell_type": "code",
   "execution_count": 59,
   "metadata": {},
   "outputs": [
    {
     "data": {
      "text/plain": [
       "GridSearchCV(cv=KFold(n_splits=10, random_state=42, shuffle=True),\n",
       "             estimator=KNeighborsRegressor(),\n",
       "             param_grid={'n_neighbors': array([ 1,  2,  3,  4,  5,  6,  7,  8,  9, 10, 11, 12, 13, 14, 15, 16, 17,\n",
       "       18, 19, 20, 21])},\n",
       "             scoring='neg_mean_squared_error')"
      ]
     },
     "execution_count": 59,
     "metadata": {},
     "output_type": "execute_result"
    }
   ],
   "source": [
    "grid_results"
   ]
  },
  {
   "cell_type": "code",
   "execution_count": 60,
   "metadata": {},
   "outputs": [
    {
     "name": "stdout",
     "output_type": "stream",
     "text": [
      "Best: -39597747455.447983 using {'n_neighbors': 9}\n"
     ]
    }
   ],
   "source": [
    "print(\"Best: %f using %s\" % (grid_results.best_score_, grid_results.best_params_))"
   ]
  },
  {
   "cell_type": "code",
   "execution_count": 61,
   "metadata": {},
   "outputs": [],
   "source": [
    "model = KNeighborsRegressor(n_neighbors=2)"
   ]
  },
  {
   "cell_type": "code",
   "execution_count": 62,
   "metadata": {},
   "outputs": [
    {
     "data": {
      "text/plain": [
       "KNeighborsRegressor(n_neighbors=2)"
      ]
     },
     "execution_count": 62,
     "metadata": {},
     "output_type": "execute_result"
    }
   ],
   "source": [
    "model.fit(rescaledX_train, y_train)"
   ]
  },
  {
   "cell_type": "code",
   "execution_count": 63,
   "metadata": {},
   "outputs": [],
   "source": [
    "rescaledX_test = scaler.transform(X_test)"
   ]
  },
  {
   "cell_type": "code",
   "execution_count": 64,
   "metadata": {},
   "outputs": [],
   "source": [
    "estimates = model.predict(rescaledX_test)"
   ]
  },
  {
   "cell_type": "code",
   "execution_count": 65,
   "metadata": {},
   "outputs": [
    {
     "data": {
      "text/plain": [
       "array([609337.5, 539975. , 885750. , ..., 319113. , 289444. , 442500. ])"
      ]
     },
     "execution_count": 65,
     "metadata": {},
     "output_type": "execute_result"
    }
   ],
   "source": [
    "estimates"
   ]
  },
  {
   "cell_type": "code",
   "execution_count": 66,
   "metadata": {},
   "outputs": [
    {
     "data": {
      "text/plain": [
       "array([ 365000.,  865000., 1038000., ...,  285000.,  605000.,  356500.])"
      ]
     },
     "execution_count": 66,
     "metadata": {},
     "output_type": "execute_result"
    }
   ],
   "source": [
    "y_test"
   ]
  },
  {
   "cell_type": "code",
   "execution_count": 67,
   "metadata": {},
   "outputs": [
    {
     "data": {
      "text/plain": [
       "58437919321.908516"
      ]
     },
     "execution_count": 67,
     "metadata": {},
     "output_type": "execute_result"
    }
   ],
   "source": [
    "mean_squared_error(y_test, estimates)"
   ]
  },
  {
   "cell_type": "code",
   "execution_count": null,
   "metadata": {},
   "outputs": [],
   "source": []
  }
 ],
 "metadata": {
  "kernelspec": {
   "display_name": "Python 3 (ipykernel)",
   "language": "python",
   "name": "python3"
  },
  "language_info": {
   "codemirror_mode": {
    "name": "ipython",
    "version": 3
   },
   "file_extension": ".py",
   "mimetype": "text/x-python",
   "name": "python",
   "nbconvert_exporter": "python",
   "pygments_lexer": "ipython3",
   "version": "3.9.12"
  }
 },
 "nbformat": 4,
 "nbformat_minor": 4
}
